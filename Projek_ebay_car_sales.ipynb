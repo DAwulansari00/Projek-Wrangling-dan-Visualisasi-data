{
  "cells": [
    {
      "cell_type": "code",
      "execution_count": 7,
      "metadata": {
        "id": "mh12gSs9rsCc"
      },
      "outputs": [],
      "source": [
        "# import library yang dibutuhkan\n",
        "import pandas as pd\n",
        "import numpy as np\n",
        "import matplotlib.pyplot as plt\n",
        "import seaborn as sns\n",
        "from datetime import datetime\n",
        "from sklearn.preprocessing import OneHotEncoder, StandardScaler\n",
        "\n",
        "\n",
        "\n",
        "# import library untuk ignore future warning\n",
        "import warnings\n",
        "warnings.simplefilter(action='ignore', category=FutureWarning)"
      ]
    },
    {
      "cell_type": "code",
      "execution_count": 8,
      "metadata": {
        "colab": {
          "base_uri": "https://localhost:8080/",
          "height": 400
        },
        "id": "8OF5vWtnsVEj",
        "outputId": "97cea264-e91e-4410-e28b-1a2334e5f313"
      },
      "outputs": [
        {
          "output_type": "execute_result",
          "data": {
            "text/plain": [
              "           dateCrawled                            name  seller offerType  \\\n",
              "0  2016-03-24 11:52:17                      Golf_3_1.6  privat   Angebot   \n",
              "1  2016-03-24 10:58:45            A5_Sportback_2.7_Tdi  privat   Angebot   \n",
              "2  2016-03-14 12:52:21  Jeep_Grand_Cherokee_\"Overland\"  privat   Angebot   \n",
              "3  2016-03-17 16:54:04              GOLF_4_1_4__3TÜRER  privat   Angebot   \n",
              "4  2016-03-31 17:25:20  Skoda_Fabia_1.4_TDI_PD_Classic  privat   Angebot   \n",
              "\n",
              "   price abtest vehicleType  yearOfRegistration    gearbox  powerPS  model  \\\n",
              "0    480   test         NaN                1993    manuell        0   golf   \n",
              "1  18300   test       coupe                2011    manuell      190    NaN   \n",
              "2   9800   test         suv                2004  automatik      163  grand   \n",
              "3   1500   test  kleinwagen                2001    manuell       75   golf   \n",
              "4   3600   test  kleinwagen                2008    manuell       69  fabia   \n",
              "\n",
              "   kilometer  monthOfRegistration fuelType       brand notRepairedDamage  \\\n",
              "0     150000                    0   benzin  volkswagen               NaN   \n",
              "1     125000                    5   diesel        audi                ja   \n",
              "2     125000                    8   diesel        jeep               NaN   \n",
              "3     150000                    6   benzin  volkswagen              nein   \n",
              "4      90000                    7   diesel       skoda              nein   \n",
              "\n",
              "           dateCreated  nrOfPictures  postalCode             lastSeen  \n",
              "0  2016-03-24 00:00:00           0.0     70435.0  2016-04-07 03:16:57  \n",
              "1  2016-03-24 00:00:00           0.0     66954.0  2016-04-07 01:46:50  \n",
              "2  2016-03-14 00:00:00           0.0     90480.0  2016-04-05 12:47:46  \n",
              "3  2016-03-17 00:00:00           0.0     91074.0  2016-03-17 17:40:17  \n",
              "4  2016-03-31 00:00:00           0.0     60437.0  2016-04-06 10:17:21  "
            ],
            "text/html": [
              "\n",
              "  <div id=\"df-c136d832-94fe-4035-a09b-51bdb8bea221\" class=\"colab-df-container\">\n",
              "    <div>\n",
              "<style scoped>\n",
              "    .dataframe tbody tr th:only-of-type {\n",
              "        vertical-align: middle;\n",
              "    }\n",
              "\n",
              "    .dataframe tbody tr th {\n",
              "        vertical-align: top;\n",
              "    }\n",
              "\n",
              "    .dataframe thead th {\n",
              "        text-align: right;\n",
              "    }\n",
              "</style>\n",
              "<table border=\"1\" class=\"dataframe\">\n",
              "  <thead>\n",
              "    <tr style=\"text-align: right;\">\n",
              "      <th></th>\n",
              "      <th>dateCrawled</th>\n",
              "      <th>name</th>\n",
              "      <th>seller</th>\n",
              "      <th>offerType</th>\n",
              "      <th>price</th>\n",
              "      <th>abtest</th>\n",
              "      <th>vehicleType</th>\n",
              "      <th>yearOfRegistration</th>\n",
              "      <th>gearbox</th>\n",
              "      <th>powerPS</th>\n",
              "      <th>model</th>\n",
              "      <th>kilometer</th>\n",
              "      <th>monthOfRegistration</th>\n",
              "      <th>fuelType</th>\n",
              "      <th>brand</th>\n",
              "      <th>notRepairedDamage</th>\n",
              "      <th>dateCreated</th>\n",
              "      <th>nrOfPictures</th>\n",
              "      <th>postalCode</th>\n",
              "      <th>lastSeen</th>\n",
              "    </tr>\n",
              "  </thead>\n",
              "  <tbody>\n",
              "    <tr>\n",
              "      <th>0</th>\n",
              "      <td>2016-03-24 11:52:17</td>\n",
              "      <td>Golf_3_1.6</td>\n",
              "      <td>privat</td>\n",
              "      <td>Angebot</td>\n",
              "      <td>480</td>\n",
              "      <td>test</td>\n",
              "      <td>NaN</td>\n",
              "      <td>1993</td>\n",
              "      <td>manuell</td>\n",
              "      <td>0</td>\n",
              "      <td>golf</td>\n",
              "      <td>150000</td>\n",
              "      <td>0</td>\n",
              "      <td>benzin</td>\n",
              "      <td>volkswagen</td>\n",
              "      <td>NaN</td>\n",
              "      <td>2016-03-24 00:00:00</td>\n",
              "      <td>0.0</td>\n",
              "      <td>70435.0</td>\n",
              "      <td>2016-04-07 03:16:57</td>\n",
              "    </tr>\n",
              "    <tr>\n",
              "      <th>1</th>\n",
              "      <td>2016-03-24 10:58:45</td>\n",
              "      <td>A5_Sportback_2.7_Tdi</td>\n",
              "      <td>privat</td>\n",
              "      <td>Angebot</td>\n",
              "      <td>18300</td>\n",
              "      <td>test</td>\n",
              "      <td>coupe</td>\n",
              "      <td>2011</td>\n",
              "      <td>manuell</td>\n",
              "      <td>190</td>\n",
              "      <td>NaN</td>\n",
              "      <td>125000</td>\n",
              "      <td>5</td>\n",
              "      <td>diesel</td>\n",
              "      <td>audi</td>\n",
              "      <td>ja</td>\n",
              "      <td>2016-03-24 00:00:00</td>\n",
              "      <td>0.0</td>\n",
              "      <td>66954.0</td>\n",
              "      <td>2016-04-07 01:46:50</td>\n",
              "    </tr>\n",
              "    <tr>\n",
              "      <th>2</th>\n",
              "      <td>2016-03-14 12:52:21</td>\n",
              "      <td>Jeep_Grand_Cherokee_\"Overland\"</td>\n",
              "      <td>privat</td>\n",
              "      <td>Angebot</td>\n",
              "      <td>9800</td>\n",
              "      <td>test</td>\n",
              "      <td>suv</td>\n",
              "      <td>2004</td>\n",
              "      <td>automatik</td>\n",
              "      <td>163</td>\n",
              "      <td>grand</td>\n",
              "      <td>125000</td>\n",
              "      <td>8</td>\n",
              "      <td>diesel</td>\n",
              "      <td>jeep</td>\n",
              "      <td>NaN</td>\n",
              "      <td>2016-03-14 00:00:00</td>\n",
              "      <td>0.0</td>\n",
              "      <td>90480.0</td>\n",
              "      <td>2016-04-05 12:47:46</td>\n",
              "    </tr>\n",
              "    <tr>\n",
              "      <th>3</th>\n",
              "      <td>2016-03-17 16:54:04</td>\n",
              "      <td>GOLF_4_1_4__3TÜRER</td>\n",
              "      <td>privat</td>\n",
              "      <td>Angebot</td>\n",
              "      <td>1500</td>\n",
              "      <td>test</td>\n",
              "      <td>kleinwagen</td>\n",
              "      <td>2001</td>\n",
              "      <td>manuell</td>\n",
              "      <td>75</td>\n",
              "      <td>golf</td>\n",
              "      <td>150000</td>\n",
              "      <td>6</td>\n",
              "      <td>benzin</td>\n",
              "      <td>volkswagen</td>\n",
              "      <td>nein</td>\n",
              "      <td>2016-03-17 00:00:00</td>\n",
              "      <td>0.0</td>\n",
              "      <td>91074.0</td>\n",
              "      <td>2016-03-17 17:40:17</td>\n",
              "    </tr>\n",
              "    <tr>\n",
              "      <th>4</th>\n",
              "      <td>2016-03-31 17:25:20</td>\n",
              "      <td>Skoda_Fabia_1.4_TDI_PD_Classic</td>\n",
              "      <td>privat</td>\n",
              "      <td>Angebot</td>\n",
              "      <td>3600</td>\n",
              "      <td>test</td>\n",
              "      <td>kleinwagen</td>\n",
              "      <td>2008</td>\n",
              "      <td>manuell</td>\n",
              "      <td>69</td>\n",
              "      <td>fabia</td>\n",
              "      <td>90000</td>\n",
              "      <td>7</td>\n",
              "      <td>diesel</td>\n",
              "      <td>skoda</td>\n",
              "      <td>nein</td>\n",
              "      <td>2016-03-31 00:00:00</td>\n",
              "      <td>0.0</td>\n",
              "      <td>60437.0</td>\n",
              "      <td>2016-04-06 10:17:21</td>\n",
              "    </tr>\n",
              "  </tbody>\n",
              "</table>\n",
              "</div>\n",
              "    <div class=\"colab-df-buttons\">\n",
              "\n",
              "  <div class=\"colab-df-container\">\n",
              "    <button class=\"colab-df-convert\" onclick=\"convertToInteractive('df-c136d832-94fe-4035-a09b-51bdb8bea221')\"\n",
              "            title=\"Convert this dataframe to an interactive table.\"\n",
              "            style=\"display:none;\">\n",
              "\n",
              "  <svg xmlns=\"http://www.w3.org/2000/svg\" height=\"24px\" viewBox=\"0 -960 960 960\">\n",
              "    <path d=\"M120-120v-720h720v720H120Zm60-500h600v-160H180v160Zm220 220h160v-160H400v160Zm0 220h160v-160H400v160ZM180-400h160v-160H180v160Zm440 0h160v-160H620v160ZM180-180h160v-160H180v160Zm440 0h160v-160H620v160Z\"/>\n",
              "  </svg>\n",
              "    </button>\n",
              "\n",
              "  <style>\n",
              "    .colab-df-container {\n",
              "      display:flex;\n",
              "      gap: 12px;\n",
              "    }\n",
              "\n",
              "    .colab-df-convert {\n",
              "      background-color: #E8F0FE;\n",
              "      border: none;\n",
              "      border-radius: 50%;\n",
              "      cursor: pointer;\n",
              "      display: none;\n",
              "      fill: #1967D2;\n",
              "      height: 32px;\n",
              "      padding: 0 0 0 0;\n",
              "      width: 32px;\n",
              "    }\n",
              "\n",
              "    .colab-df-convert:hover {\n",
              "      background-color: #E2EBFA;\n",
              "      box-shadow: 0px 1px 2px rgba(60, 64, 67, 0.3), 0px 1px 3px 1px rgba(60, 64, 67, 0.15);\n",
              "      fill: #174EA6;\n",
              "    }\n",
              "\n",
              "    .colab-df-buttons div {\n",
              "      margin-bottom: 4px;\n",
              "    }\n",
              "\n",
              "    [theme=dark] .colab-df-convert {\n",
              "      background-color: #3B4455;\n",
              "      fill: #D2E3FC;\n",
              "    }\n",
              "\n",
              "    [theme=dark] .colab-df-convert:hover {\n",
              "      background-color: #434B5C;\n",
              "      box-shadow: 0px 1px 3px 1px rgba(0, 0, 0, 0.15);\n",
              "      filter: drop-shadow(0px 1px 2px rgba(0, 0, 0, 0.3));\n",
              "      fill: #FFFFFF;\n",
              "    }\n",
              "  </style>\n",
              "\n",
              "    <script>\n",
              "      const buttonEl =\n",
              "        document.querySelector('#df-c136d832-94fe-4035-a09b-51bdb8bea221 button.colab-df-convert');\n",
              "      buttonEl.style.display =\n",
              "        google.colab.kernel.accessAllowed ? 'block' : 'none';\n",
              "\n",
              "      async function convertToInteractive(key) {\n",
              "        const element = document.querySelector('#df-c136d832-94fe-4035-a09b-51bdb8bea221');\n",
              "        const dataTable =\n",
              "          await google.colab.kernel.invokeFunction('convertToInteractive',\n",
              "                                                    [key], {});\n",
              "        if (!dataTable) return;\n",
              "\n",
              "        const docLinkHtml = 'Like what you see? Visit the ' +\n",
              "          '<a target=\"_blank\" href=https://colab.research.google.com/notebooks/data_table.ipynb>data table notebook</a>'\n",
              "          + ' to learn more about interactive tables.';\n",
              "        element.innerHTML = '';\n",
              "        dataTable['output_type'] = 'display_data';\n",
              "        await google.colab.output.renderOutput(dataTable, element);\n",
              "        const docLink = document.createElement('div');\n",
              "        docLink.innerHTML = docLinkHtml;\n",
              "        element.appendChild(docLink);\n",
              "      }\n",
              "    </script>\n",
              "  </div>\n",
              "\n",
              "\n",
              "<div id=\"df-c4a98a53-7284-4c3c-85b8-03b48d207c3a\">\n",
              "  <button class=\"colab-df-quickchart\" onclick=\"quickchart('df-c4a98a53-7284-4c3c-85b8-03b48d207c3a')\"\n",
              "            title=\"Suggest charts\"\n",
              "            style=\"display:none;\">\n",
              "\n",
              "<svg xmlns=\"http://www.w3.org/2000/svg\" height=\"24px\"viewBox=\"0 0 24 24\"\n",
              "     width=\"24px\">\n",
              "    <g>\n",
              "        <path d=\"M19 3H5c-1.1 0-2 .9-2 2v14c0 1.1.9 2 2 2h14c1.1 0 2-.9 2-2V5c0-1.1-.9-2-2-2zM9 17H7v-7h2v7zm4 0h-2V7h2v10zm4 0h-2v-4h2v4z\"/>\n",
              "    </g>\n",
              "</svg>\n",
              "  </button>\n",
              "\n",
              "<style>\n",
              "  .colab-df-quickchart {\n",
              "      --bg-color: #E8F0FE;\n",
              "      --fill-color: #1967D2;\n",
              "      --hover-bg-color: #E2EBFA;\n",
              "      --hover-fill-color: #174EA6;\n",
              "      --disabled-fill-color: #AAA;\n",
              "      --disabled-bg-color: #DDD;\n",
              "  }\n",
              "\n",
              "  [theme=dark] .colab-df-quickchart {\n",
              "      --bg-color: #3B4455;\n",
              "      --fill-color: #D2E3FC;\n",
              "      --hover-bg-color: #434B5C;\n",
              "      --hover-fill-color: #FFFFFF;\n",
              "      --disabled-bg-color: #3B4455;\n",
              "      --disabled-fill-color: #666;\n",
              "  }\n",
              "\n",
              "  .colab-df-quickchart {\n",
              "    background-color: var(--bg-color);\n",
              "    border: none;\n",
              "    border-radius: 50%;\n",
              "    cursor: pointer;\n",
              "    display: none;\n",
              "    fill: var(--fill-color);\n",
              "    height: 32px;\n",
              "    padding: 0;\n",
              "    width: 32px;\n",
              "  }\n",
              "\n",
              "  .colab-df-quickchart:hover {\n",
              "    background-color: var(--hover-bg-color);\n",
              "    box-shadow: 0 1px 2px rgba(60, 64, 67, 0.3), 0 1px 3px 1px rgba(60, 64, 67, 0.15);\n",
              "    fill: var(--button-hover-fill-color);\n",
              "  }\n",
              "\n",
              "  .colab-df-quickchart-complete:disabled,\n",
              "  .colab-df-quickchart-complete:disabled:hover {\n",
              "    background-color: var(--disabled-bg-color);\n",
              "    fill: var(--disabled-fill-color);\n",
              "    box-shadow: none;\n",
              "  }\n",
              "\n",
              "  .colab-df-spinner {\n",
              "    border: 2px solid var(--fill-color);\n",
              "    border-color: transparent;\n",
              "    border-bottom-color: var(--fill-color);\n",
              "    animation:\n",
              "      spin 1s steps(1) infinite;\n",
              "  }\n",
              "\n",
              "  @keyframes spin {\n",
              "    0% {\n",
              "      border-color: transparent;\n",
              "      border-bottom-color: var(--fill-color);\n",
              "      border-left-color: var(--fill-color);\n",
              "    }\n",
              "    20% {\n",
              "      border-color: transparent;\n",
              "      border-left-color: var(--fill-color);\n",
              "      border-top-color: var(--fill-color);\n",
              "    }\n",
              "    30% {\n",
              "      border-color: transparent;\n",
              "      border-left-color: var(--fill-color);\n",
              "      border-top-color: var(--fill-color);\n",
              "      border-right-color: var(--fill-color);\n",
              "    }\n",
              "    40% {\n",
              "      border-color: transparent;\n",
              "      border-right-color: var(--fill-color);\n",
              "      border-top-color: var(--fill-color);\n",
              "    }\n",
              "    60% {\n",
              "      border-color: transparent;\n",
              "      border-right-color: var(--fill-color);\n",
              "    }\n",
              "    80% {\n",
              "      border-color: transparent;\n",
              "      border-right-color: var(--fill-color);\n",
              "      border-bottom-color: var(--fill-color);\n",
              "    }\n",
              "    90% {\n",
              "      border-color: transparent;\n",
              "      border-bottom-color: var(--fill-color);\n",
              "    }\n",
              "  }\n",
              "</style>\n",
              "\n",
              "  <script>\n",
              "    async function quickchart(key) {\n",
              "      const quickchartButtonEl =\n",
              "        document.querySelector('#' + key + ' button');\n",
              "      quickchartButtonEl.disabled = true;  // To prevent multiple clicks.\n",
              "      quickchartButtonEl.classList.add('colab-df-spinner');\n",
              "      try {\n",
              "        const charts = await google.colab.kernel.invokeFunction(\n",
              "            'suggestCharts', [key], {});\n",
              "      } catch (error) {\n",
              "        console.error('Error during call to suggestCharts:', error);\n",
              "      }\n",
              "      quickchartButtonEl.classList.remove('colab-df-spinner');\n",
              "      quickchartButtonEl.classList.add('colab-df-quickchart-complete');\n",
              "    }\n",
              "    (() => {\n",
              "      let quickchartButtonEl =\n",
              "        document.querySelector('#df-c4a98a53-7284-4c3c-85b8-03b48d207c3a button');\n",
              "      quickchartButtonEl.style.display =\n",
              "        google.colab.kernel.accessAllowed ? 'block' : 'none';\n",
              "    })();\n",
              "  </script>\n",
              "</div>\n",
              "    </div>\n",
              "  </div>\n"
            ],
            "application/vnd.google.colaboratory.intrinsic+json": {
              "type": "dataframe",
              "variable_name": "autos",
              "summary": "{\n  \"name\": \"autos\",\n  \"rows\": 39901,\n  \"fields\": [\n    {\n      \"column\": \"dateCrawled\",\n      \"properties\": {\n        \"dtype\": \"object\",\n        \"num_unique_values\": 38779,\n        \"samples\": [\n          \"2016-03-31 17:36:56\",\n          \"2016-03-31 17:50:37\",\n          \"2016-03-14 13:52:38\"\n        ],\n        \"semantic_type\": \"\",\n        \"description\": \"\"\n      }\n    },\n    {\n      \"column\": \"name\",\n      \"properties\": {\n        \"dtype\": \"string\",\n        \"num_unique_values\": 31621,\n        \"samples\": [\n          \"Suzuki_SJ_410/413_Off_Road_Umbau\",\n          \"Auto__Rad_&_Boot_>_Autos\",\n          \"Verkaufe_Fiat_punto_mit_1_Jahr_Tuev\"\n        ],\n        \"semantic_type\": \"\",\n        \"description\": \"\"\n      }\n    },\n    {\n      \"column\": \"seller\",\n      \"properties\": {\n        \"dtype\": \"category\",\n        \"num_unique_values\": 1,\n        \"samples\": [\n          \"privat\"\n        ],\n        \"semantic_type\": \"\",\n        \"description\": \"\"\n      }\n    },\n    {\n      \"column\": \"offerType\",\n      \"properties\": {\n        \"dtype\": \"category\",\n        \"num_unique_values\": 2,\n        \"samples\": [\n          \"Gesuch\"\n        ],\n        \"semantic_type\": \"\",\n        \"description\": \"\"\n      }\n    },\n    {\n      \"column\": \"price\",\n      \"properties\": {\n        \"dtype\": \"number\",\n        \"std\": 115785,\n        \"min\": 0,\n        \"max\": 12345678,\n        \"num_unique_values\": 2151,\n        \"samples\": [\n          45500\n        ],\n        \"semantic_type\": \"\",\n        \"description\": \"\"\n      }\n    },\n    {\n      \"column\": \"abtest\",\n      \"properties\": {\n        \"dtype\": \"category\",\n        \"num_unique_values\": 2,\n        \"samples\": [\n          \"control\"\n        ],\n        \"semantic_type\": \"\",\n        \"description\": \"\"\n      }\n    },\n    {\n      \"column\": \"vehicleType\",\n      \"properties\": {\n        \"dtype\": \"category\",\n        \"num_unique_values\": 8,\n        \"samples\": [\n          \"suv\"\n        ],\n        \"semantic_type\": \"\",\n        \"description\": \"\"\n      }\n    },\n    {\n      \"column\": \"yearOfRegistration\",\n      \"properties\": {\n        \"dtype\": \"number\",\n        \"std\": 98,\n        \"min\": 1000,\n        \"max\": 9999,\n        \"num_unique_values\": 91,\n        \"samples\": [\n          1973\n        ],\n        \"semantic_type\": \"\",\n        \"description\": \"\"\n      }\n    },\n    {\n      \"column\": \"gearbox\",\n      \"properties\": {\n        \"dtype\": \"category\",\n        \"num_unique_values\": 2,\n        \"samples\": [\n          \"automatik\"\n        ],\n        \"semantic_type\": \"\",\n        \"description\": \"\"\n      }\n    },\n    {\n      \"column\": \"powerPS\",\n      \"properties\": {\n        \"dtype\": \"number\",\n        \"std\": 119,\n        \"min\": 0,\n        \"max\": 10520,\n        \"num_unique_values\": 420,\n        \"samples\": [\n          344\n        ],\n        \"semantic_type\": \"\",\n        \"description\": \"\"\n      }\n    },\n    {\n      \"column\": \"model\",\n      \"properties\": {\n        \"dtype\": \"category\",\n        \"num_unique_values\": 244,\n        \"samples\": [\n          \"kadett\"\n        ],\n        \"semantic_type\": \"\",\n        \"description\": \"\"\n      }\n    },\n    {\n      \"column\": \"kilometer\",\n      \"properties\": {\n        \"dtype\": \"number\",\n        \"std\": 40091,\n        \"min\": 5000,\n        \"max\": 150000,\n        \"num_unique_values\": 13,\n        \"samples\": [\n          50000\n        ],\n        \"semantic_type\": \"\",\n        \"description\": \"\"\n      }\n    },\n    {\n      \"column\": \"monthOfRegistration\",\n      \"properties\": {\n        \"dtype\": \"number\",\n        \"std\": 3,\n        \"min\": 0,\n        \"max\": 12,\n        \"num_unique_values\": 13,\n        \"samples\": [\n          4\n        ],\n        \"semantic_type\": \"\",\n        \"description\": \"\"\n      }\n    },\n    {\n      \"column\": \"fuelType\",\n      \"properties\": {\n        \"dtype\": \"category\",\n        \"num_unique_values\": 7,\n        \"samples\": [\n          \"benzin\"\n        ],\n        \"semantic_type\": \"\",\n        \"description\": \"\"\n      }\n    },\n    {\n      \"column\": \"brand\",\n      \"properties\": {\n        \"dtype\": \"category\",\n        \"num_unique_values\": 40,\n        \"samples\": [\n          \"sonstige_autos\"\n        ],\n        \"semantic_type\": \"\",\n        \"description\": \"\"\n      }\n    },\n    {\n      \"column\": \"notRepairedDamage\",\n      \"properties\": {\n        \"dtype\": \"category\",\n        \"num_unique_values\": 3,\n        \"samples\": [\n          \"ja\"\n        ],\n        \"semantic_type\": \"\",\n        \"description\": \"\"\n      }\n    },\n    {\n      \"column\": \"dateCreated\",\n      \"properties\": {\n        \"dtype\": \"object\",\n        \"num_unique_values\": 68,\n        \"samples\": [\n          \"2016-01-27 00:00:00\"\n        ],\n        \"semantic_type\": \"\",\n        \"description\": \"\"\n      }\n    },\n    {\n      \"column\": \"nrOfPictures\",\n      \"properties\": {\n        \"dtype\": \"number\",\n        \"std\": 0.0,\n        \"min\": 0.0,\n        \"max\": 0.0,\n        \"num_unique_values\": 1,\n        \"samples\": [\n          0.0\n        ],\n        \"semantic_type\": \"\",\n        \"description\": \"\"\n      }\n    },\n    {\n      \"column\": \"postalCode\",\n      \"properties\": {\n        \"dtype\": \"number\",\n        \"std\": 25870.269049097977,\n        \"min\": 1067.0,\n        \"max\": 99994.0,\n        \"num_unique_values\": 6737,\n        \"samples\": [\n          57392.0\n        ],\n        \"semantic_type\": \"\",\n        \"description\": \"\"\n      }\n    },\n    {\n      \"column\": \"lastSeen\",\n      \"properties\": {\n        \"dtype\": \"object\",\n        \"num_unique_values\": 32563,\n        \"samples\": [\n          \"2016-03-30 12:17:33\"\n        ],\n        \"semantic_type\": \"\",\n        \"description\": \"\"\n      }\n    }\n  ]\n}"
            }
          },
          "metadata": {},
          "execution_count": 8
        }
      ],
      "source": [
        "# Path data\n",
        "path_data = \"autos.csv\"\n",
        "\n",
        "# read data dari file\n",
        "autos = pd.read_csv(path_data, encoding='latin-1')\n",
        "\n",
        "# Menampilkan 5 data teratas\n",
        "autos.head()"
      ]
    },
    {
      "cell_type": "markdown",
      "metadata": {
        "id": "1YNdAtxRknPV"
      },
      "source": [
        "# Eksploration of Data & Preprocessing\n",
        "\n",
        "Outline:\n",
        "* Check data type and match with definition given by data source\n",
        "* Check missing value and handle it\n",
        "* Check Duplicated and handle it\n",
        "* Check Inkonsistensi Data and handle it\n",
        "* Check outlier and handle it"
      ]
    },
    {
      "cell_type": "markdown",
      "metadata": {
        "id": "v5_ZnkdY447R"
      },
      "source": [
        "## Check Data Type"
      ]
    },
    {
      "cell_type": "code",
      "execution_count": 9,
      "metadata": {
        "colab": {
          "base_uri": "https://localhost:8080/"
        },
        "id": "F1sD-AlFk38h",
        "outputId": "37d82cdd-ae51-477a-e5d7-6c9f14613425"
      },
      "outputs": [
        {
          "output_type": "stream",
          "name": "stdout",
          "text": [
            "<class 'pandas.core.frame.DataFrame'>\n",
            "RangeIndex: 39901 entries, 0 to 39900\n",
            "Data columns (total 20 columns):\n",
            " #   Column               Non-Null Count  Dtype  \n",
            "---  ------               --------------  -----  \n",
            " 0   dateCrawled          39901 non-null  object \n",
            " 1   name                 39901 non-null  object \n",
            " 2   seller               39901 non-null  object \n",
            " 3   offerType            39901 non-null  object \n",
            " 4   price                39901 non-null  int64  \n",
            " 5   abtest               39901 non-null  object \n",
            " 6   vehicleType          35723 non-null  object \n",
            " 7   yearOfRegistration   39901 non-null  int64  \n",
            " 8   gearbox              37733 non-null  object \n",
            " 9   powerPS              39901 non-null  int64  \n",
            " 10  model                37688 non-null  object \n",
            " 11  kilometer            39901 non-null  int64  \n",
            " 12  monthOfRegistration  39901 non-null  int64  \n",
            " 13  fuelType             36190 non-null  object \n",
            " 14  brand                39901 non-null  object \n",
            " 15  notRepairedDamage    32105 non-null  object \n",
            " 16  dateCreated          39900 non-null  object \n",
            " 17  nrOfPictures         39900 non-null  float64\n",
            " 18  postalCode           39900 non-null  float64\n",
            " 19  lastSeen             39900 non-null  object \n",
            "dtypes: float64(2), int64(5), object(13)\n",
            "memory usage: 6.1+ MB\n"
          ]
        }
      ],
      "source": [
        "# Cek tipe data dari data autos\n",
        "autos.info()"
      ]
    },
    {
      "cell_type": "markdown",
      "metadata": {
        "id": "G3N7i3Xd5Mv0"
      },
      "source": [
        "1. Data berisi 20 kolom, dan ditemukan bahwa ada 13 kolom bertipe object, dan 7 kolom bertipe integer\n",
        "2. Penamaan kolom menggunakan camelCase, hal tersebut tidak sesuai dengan aturan penamaan di Python\n",
        "3. Ada beberapa kolom yang memiliki null value"
      ]
    },
    {
      "cell_type": "markdown",
      "metadata": {
        "id": "GIPPA8jErmuJ"
      },
      "source": [
        "kita akan mengubah nama kolom menjadi lebih mudah dibaca sehingga memudahkan dalam proses wrangling, nama kolom menggunkan format snake-case supaya lebih konsisten"
      ]
    },
    {
      "cell_type": "code",
      "execution_count": 10,
      "metadata": {
        "colab": {
          "base_uri": "https://localhost:8080/"
        },
        "id": "v-9BYpUKskk2",
        "outputId": "6e8f9fba-9ed0-48fe-f59d-6b8e182f9707"
      },
      "outputs": [
        {
          "output_type": "execute_result",
          "data": {
            "text/plain": [
              "Index(['dateCrawled', 'name', 'seller', 'offerType', 'price', 'abtest',\n",
              "       'vehicleType', 'yearOfRegistration', 'gearbox', 'powerPS', 'model',\n",
              "       'kilometer', 'monthOfRegistration', 'fuelType', 'brand',\n",
              "       'notRepairedDamage', 'dateCreated', 'nrOfPictures', 'postalCode',\n",
              "       'lastSeen'],\n",
              "      dtype='object')"
            ]
          },
          "metadata": {},
          "execution_count": 10
        }
      ],
      "source": [
        "#cek nama kolom\n",
        "autos.columns"
      ]
    },
    {
      "cell_type": "code",
      "execution_count": 11,
      "metadata": {
        "colab": {
          "base_uri": "https://localhost:8080/",
          "height": 201
        },
        "id": "2Ymg0QtgswAM",
        "outputId": "0fbfbb55-38a2-40e1-968e-747d54199fa5"
      },
      "outputs": [
        {
          "output_type": "execute_result",
          "data": {
            "text/plain": [
              "          date_crawled                  name  seller offer_type  price abtest  \\\n",
              "0  2016-03-24 11:52:17            Golf_3_1.6  privat    Angebot    480   test   \n",
              "1  2016-03-24 10:58:45  A5_Sportback_2.7_Tdi  privat    Angebot  18300   test   \n",
              "\n",
              "  vehicle_type  registration_year  gearbox  power_ps model  kilometer  \\\n",
              "0          NaN               1993  manuell         0  golf     150000   \n",
              "1        coupe               2011  manuell       190   NaN     125000   \n",
              "\n",
              "   registration_month fuel_type       brand unrepaired_damage  \\\n",
              "0                   0    benzin  volkswagen               NaN   \n",
              "1                   5    diesel        audi                ja   \n",
              "\n",
              "            ad_created  nr_of_picture  postal_code            last_seen  \n",
              "0  2016-03-24 00:00:00            0.0      70435.0  2016-04-07 03:16:57  \n",
              "1  2016-03-24 00:00:00            0.0      66954.0  2016-04-07 01:46:50  "
            ],
            "text/html": [
              "\n",
              "  <div id=\"df-2bdea105-ed21-4cb8-8141-9dbd81fed884\" class=\"colab-df-container\">\n",
              "    <div>\n",
              "<style scoped>\n",
              "    .dataframe tbody tr th:only-of-type {\n",
              "        vertical-align: middle;\n",
              "    }\n",
              "\n",
              "    .dataframe tbody tr th {\n",
              "        vertical-align: top;\n",
              "    }\n",
              "\n",
              "    .dataframe thead th {\n",
              "        text-align: right;\n",
              "    }\n",
              "</style>\n",
              "<table border=\"1\" class=\"dataframe\">\n",
              "  <thead>\n",
              "    <tr style=\"text-align: right;\">\n",
              "      <th></th>\n",
              "      <th>date_crawled</th>\n",
              "      <th>name</th>\n",
              "      <th>seller</th>\n",
              "      <th>offer_type</th>\n",
              "      <th>price</th>\n",
              "      <th>abtest</th>\n",
              "      <th>vehicle_type</th>\n",
              "      <th>registration_year</th>\n",
              "      <th>gearbox</th>\n",
              "      <th>power_ps</th>\n",
              "      <th>model</th>\n",
              "      <th>kilometer</th>\n",
              "      <th>registration_month</th>\n",
              "      <th>fuel_type</th>\n",
              "      <th>brand</th>\n",
              "      <th>unrepaired_damage</th>\n",
              "      <th>ad_created</th>\n",
              "      <th>nr_of_picture</th>\n",
              "      <th>postal_code</th>\n",
              "      <th>last_seen</th>\n",
              "    </tr>\n",
              "  </thead>\n",
              "  <tbody>\n",
              "    <tr>\n",
              "      <th>0</th>\n",
              "      <td>2016-03-24 11:52:17</td>\n",
              "      <td>Golf_3_1.6</td>\n",
              "      <td>privat</td>\n",
              "      <td>Angebot</td>\n",
              "      <td>480</td>\n",
              "      <td>test</td>\n",
              "      <td>NaN</td>\n",
              "      <td>1993</td>\n",
              "      <td>manuell</td>\n",
              "      <td>0</td>\n",
              "      <td>golf</td>\n",
              "      <td>150000</td>\n",
              "      <td>0</td>\n",
              "      <td>benzin</td>\n",
              "      <td>volkswagen</td>\n",
              "      <td>NaN</td>\n",
              "      <td>2016-03-24 00:00:00</td>\n",
              "      <td>0.0</td>\n",
              "      <td>70435.0</td>\n",
              "      <td>2016-04-07 03:16:57</td>\n",
              "    </tr>\n",
              "    <tr>\n",
              "      <th>1</th>\n",
              "      <td>2016-03-24 10:58:45</td>\n",
              "      <td>A5_Sportback_2.7_Tdi</td>\n",
              "      <td>privat</td>\n",
              "      <td>Angebot</td>\n",
              "      <td>18300</td>\n",
              "      <td>test</td>\n",
              "      <td>coupe</td>\n",
              "      <td>2011</td>\n",
              "      <td>manuell</td>\n",
              "      <td>190</td>\n",
              "      <td>NaN</td>\n",
              "      <td>125000</td>\n",
              "      <td>5</td>\n",
              "      <td>diesel</td>\n",
              "      <td>audi</td>\n",
              "      <td>ja</td>\n",
              "      <td>2016-03-24 00:00:00</td>\n",
              "      <td>0.0</td>\n",
              "      <td>66954.0</td>\n",
              "      <td>2016-04-07 01:46:50</td>\n",
              "    </tr>\n",
              "  </tbody>\n",
              "</table>\n",
              "</div>\n",
              "    <div class=\"colab-df-buttons\">\n",
              "\n",
              "  <div class=\"colab-df-container\">\n",
              "    <button class=\"colab-df-convert\" onclick=\"convertToInteractive('df-2bdea105-ed21-4cb8-8141-9dbd81fed884')\"\n",
              "            title=\"Convert this dataframe to an interactive table.\"\n",
              "            style=\"display:none;\">\n",
              "\n",
              "  <svg xmlns=\"http://www.w3.org/2000/svg\" height=\"24px\" viewBox=\"0 -960 960 960\">\n",
              "    <path d=\"M120-120v-720h720v720H120Zm60-500h600v-160H180v160Zm220 220h160v-160H400v160Zm0 220h160v-160H400v160ZM180-400h160v-160H180v160Zm440 0h160v-160H620v160ZM180-180h160v-160H180v160Zm440 0h160v-160H620v160Z\"/>\n",
              "  </svg>\n",
              "    </button>\n",
              "\n",
              "  <style>\n",
              "    .colab-df-container {\n",
              "      display:flex;\n",
              "      gap: 12px;\n",
              "    }\n",
              "\n",
              "    .colab-df-convert {\n",
              "      background-color: #E8F0FE;\n",
              "      border: none;\n",
              "      border-radius: 50%;\n",
              "      cursor: pointer;\n",
              "      display: none;\n",
              "      fill: #1967D2;\n",
              "      height: 32px;\n",
              "      padding: 0 0 0 0;\n",
              "      width: 32px;\n",
              "    }\n",
              "\n",
              "    .colab-df-convert:hover {\n",
              "      background-color: #E2EBFA;\n",
              "      box-shadow: 0px 1px 2px rgba(60, 64, 67, 0.3), 0px 1px 3px 1px rgba(60, 64, 67, 0.15);\n",
              "      fill: #174EA6;\n",
              "    }\n",
              "\n",
              "    .colab-df-buttons div {\n",
              "      margin-bottom: 4px;\n",
              "    }\n",
              "\n",
              "    [theme=dark] .colab-df-convert {\n",
              "      background-color: #3B4455;\n",
              "      fill: #D2E3FC;\n",
              "    }\n",
              "\n",
              "    [theme=dark] .colab-df-convert:hover {\n",
              "      background-color: #434B5C;\n",
              "      box-shadow: 0px 1px 3px 1px rgba(0, 0, 0, 0.15);\n",
              "      filter: drop-shadow(0px 1px 2px rgba(0, 0, 0, 0.3));\n",
              "      fill: #FFFFFF;\n",
              "    }\n",
              "  </style>\n",
              "\n",
              "    <script>\n",
              "      const buttonEl =\n",
              "        document.querySelector('#df-2bdea105-ed21-4cb8-8141-9dbd81fed884 button.colab-df-convert');\n",
              "      buttonEl.style.display =\n",
              "        google.colab.kernel.accessAllowed ? 'block' : 'none';\n",
              "\n",
              "      async function convertToInteractive(key) {\n",
              "        const element = document.querySelector('#df-2bdea105-ed21-4cb8-8141-9dbd81fed884');\n",
              "        const dataTable =\n",
              "          await google.colab.kernel.invokeFunction('convertToInteractive',\n",
              "                                                    [key], {});\n",
              "        if (!dataTable) return;\n",
              "\n",
              "        const docLinkHtml = 'Like what you see? Visit the ' +\n",
              "          '<a target=\"_blank\" href=https://colab.research.google.com/notebooks/data_table.ipynb>data table notebook</a>'\n",
              "          + ' to learn more about interactive tables.';\n",
              "        element.innerHTML = '';\n",
              "        dataTable['output_type'] = 'display_data';\n",
              "        await google.colab.output.renderOutput(dataTable, element);\n",
              "        const docLink = document.createElement('div');\n",
              "        docLink.innerHTML = docLinkHtml;\n",
              "        element.appendChild(docLink);\n",
              "      }\n",
              "    </script>\n",
              "  </div>\n",
              "\n",
              "\n",
              "<div id=\"df-8e91eb0c-0ddd-4e90-835b-50ac7c2fba06\">\n",
              "  <button class=\"colab-df-quickchart\" onclick=\"quickchart('df-8e91eb0c-0ddd-4e90-835b-50ac7c2fba06')\"\n",
              "            title=\"Suggest charts\"\n",
              "            style=\"display:none;\">\n",
              "\n",
              "<svg xmlns=\"http://www.w3.org/2000/svg\" height=\"24px\"viewBox=\"0 0 24 24\"\n",
              "     width=\"24px\">\n",
              "    <g>\n",
              "        <path d=\"M19 3H5c-1.1 0-2 .9-2 2v14c0 1.1.9 2 2 2h14c1.1 0 2-.9 2-2V5c0-1.1-.9-2-2-2zM9 17H7v-7h2v7zm4 0h-2V7h2v10zm4 0h-2v-4h2v4z\"/>\n",
              "    </g>\n",
              "</svg>\n",
              "  </button>\n",
              "\n",
              "<style>\n",
              "  .colab-df-quickchart {\n",
              "      --bg-color: #E8F0FE;\n",
              "      --fill-color: #1967D2;\n",
              "      --hover-bg-color: #E2EBFA;\n",
              "      --hover-fill-color: #174EA6;\n",
              "      --disabled-fill-color: #AAA;\n",
              "      --disabled-bg-color: #DDD;\n",
              "  }\n",
              "\n",
              "  [theme=dark] .colab-df-quickchart {\n",
              "      --bg-color: #3B4455;\n",
              "      --fill-color: #D2E3FC;\n",
              "      --hover-bg-color: #434B5C;\n",
              "      --hover-fill-color: #FFFFFF;\n",
              "      --disabled-bg-color: #3B4455;\n",
              "      --disabled-fill-color: #666;\n",
              "  }\n",
              "\n",
              "  .colab-df-quickchart {\n",
              "    background-color: var(--bg-color);\n",
              "    border: none;\n",
              "    border-radius: 50%;\n",
              "    cursor: pointer;\n",
              "    display: none;\n",
              "    fill: var(--fill-color);\n",
              "    height: 32px;\n",
              "    padding: 0;\n",
              "    width: 32px;\n",
              "  }\n",
              "\n",
              "  .colab-df-quickchart:hover {\n",
              "    background-color: var(--hover-bg-color);\n",
              "    box-shadow: 0 1px 2px rgba(60, 64, 67, 0.3), 0 1px 3px 1px rgba(60, 64, 67, 0.15);\n",
              "    fill: var(--button-hover-fill-color);\n",
              "  }\n",
              "\n",
              "  .colab-df-quickchart-complete:disabled,\n",
              "  .colab-df-quickchart-complete:disabled:hover {\n",
              "    background-color: var(--disabled-bg-color);\n",
              "    fill: var(--disabled-fill-color);\n",
              "    box-shadow: none;\n",
              "  }\n",
              "\n",
              "  .colab-df-spinner {\n",
              "    border: 2px solid var(--fill-color);\n",
              "    border-color: transparent;\n",
              "    border-bottom-color: var(--fill-color);\n",
              "    animation:\n",
              "      spin 1s steps(1) infinite;\n",
              "  }\n",
              "\n",
              "  @keyframes spin {\n",
              "    0% {\n",
              "      border-color: transparent;\n",
              "      border-bottom-color: var(--fill-color);\n",
              "      border-left-color: var(--fill-color);\n",
              "    }\n",
              "    20% {\n",
              "      border-color: transparent;\n",
              "      border-left-color: var(--fill-color);\n",
              "      border-top-color: var(--fill-color);\n",
              "    }\n",
              "    30% {\n",
              "      border-color: transparent;\n",
              "      border-left-color: var(--fill-color);\n",
              "      border-top-color: var(--fill-color);\n",
              "      border-right-color: var(--fill-color);\n",
              "    }\n",
              "    40% {\n",
              "      border-color: transparent;\n",
              "      border-right-color: var(--fill-color);\n",
              "      border-top-color: var(--fill-color);\n",
              "    }\n",
              "    60% {\n",
              "      border-color: transparent;\n",
              "      border-right-color: var(--fill-color);\n",
              "    }\n",
              "    80% {\n",
              "      border-color: transparent;\n",
              "      border-right-color: var(--fill-color);\n",
              "      border-bottom-color: var(--fill-color);\n",
              "    }\n",
              "    90% {\n",
              "      border-color: transparent;\n",
              "      border-bottom-color: var(--fill-color);\n",
              "    }\n",
              "  }\n",
              "</style>\n",
              "\n",
              "  <script>\n",
              "    async function quickchart(key) {\n",
              "      const quickchartButtonEl =\n",
              "        document.querySelector('#' + key + ' button');\n",
              "      quickchartButtonEl.disabled = true;  // To prevent multiple clicks.\n",
              "      quickchartButtonEl.classList.add('colab-df-spinner');\n",
              "      try {\n",
              "        const charts = await google.colab.kernel.invokeFunction(\n",
              "            'suggestCharts', [key], {});\n",
              "      } catch (error) {\n",
              "        console.error('Error during call to suggestCharts:', error);\n",
              "      }\n",
              "      quickchartButtonEl.classList.remove('colab-df-spinner');\n",
              "      quickchartButtonEl.classList.add('colab-df-quickchart-complete');\n",
              "    }\n",
              "    (() => {\n",
              "      let quickchartButtonEl =\n",
              "        document.querySelector('#df-8e91eb0c-0ddd-4e90-835b-50ac7c2fba06 button');\n",
              "      quickchartButtonEl.style.display =\n",
              "        google.colab.kernel.accessAllowed ? 'block' : 'none';\n",
              "    })();\n",
              "  </script>\n",
              "</div>\n",
              "    </div>\n",
              "  </div>\n"
            ],
            "application/vnd.google.colaboratory.intrinsic+json": {
              "type": "dataframe",
              "variable_name": "autos",
              "summary": "{\n  \"name\": \"autos\",\n  \"rows\": 39901,\n  \"fields\": [\n    {\n      \"column\": \"date_crawled\",\n      \"properties\": {\n        \"dtype\": \"object\",\n        \"num_unique_values\": 38779,\n        \"samples\": [\n          \"2016-03-31 17:36:56\",\n          \"2016-03-31 17:50:37\",\n          \"2016-03-14 13:52:38\"\n        ],\n        \"semantic_type\": \"\",\n        \"description\": \"\"\n      }\n    },\n    {\n      \"column\": \"name\",\n      \"properties\": {\n        \"dtype\": \"string\",\n        \"num_unique_values\": 31621,\n        \"samples\": [\n          \"Suzuki_SJ_410/413_Off_Road_Umbau\",\n          \"Auto__Rad_&_Boot_>_Autos\",\n          \"Verkaufe_Fiat_punto_mit_1_Jahr_Tuev\"\n        ],\n        \"semantic_type\": \"\",\n        \"description\": \"\"\n      }\n    },\n    {\n      \"column\": \"seller\",\n      \"properties\": {\n        \"dtype\": \"category\",\n        \"num_unique_values\": 1,\n        \"samples\": [\n          \"privat\"\n        ],\n        \"semantic_type\": \"\",\n        \"description\": \"\"\n      }\n    },\n    {\n      \"column\": \"offer_type\",\n      \"properties\": {\n        \"dtype\": \"category\",\n        \"num_unique_values\": 2,\n        \"samples\": [\n          \"Gesuch\"\n        ],\n        \"semantic_type\": \"\",\n        \"description\": \"\"\n      }\n    },\n    {\n      \"column\": \"price\",\n      \"properties\": {\n        \"dtype\": \"number\",\n        \"std\": 115785,\n        \"min\": 0,\n        \"max\": 12345678,\n        \"num_unique_values\": 2151,\n        \"samples\": [\n          45500\n        ],\n        \"semantic_type\": \"\",\n        \"description\": \"\"\n      }\n    },\n    {\n      \"column\": \"abtest\",\n      \"properties\": {\n        \"dtype\": \"category\",\n        \"num_unique_values\": 2,\n        \"samples\": [\n          \"control\"\n        ],\n        \"semantic_type\": \"\",\n        \"description\": \"\"\n      }\n    },\n    {\n      \"column\": \"vehicle_type\",\n      \"properties\": {\n        \"dtype\": \"category\",\n        \"num_unique_values\": 8,\n        \"samples\": [\n          \"suv\"\n        ],\n        \"semantic_type\": \"\",\n        \"description\": \"\"\n      }\n    },\n    {\n      \"column\": \"registration_year\",\n      \"properties\": {\n        \"dtype\": \"number\",\n        \"std\": 98,\n        \"min\": 1000,\n        \"max\": 9999,\n        \"num_unique_values\": 91,\n        \"samples\": [\n          1973\n        ],\n        \"semantic_type\": \"\",\n        \"description\": \"\"\n      }\n    },\n    {\n      \"column\": \"gearbox\",\n      \"properties\": {\n        \"dtype\": \"category\",\n        \"num_unique_values\": 2,\n        \"samples\": [\n          \"automatik\"\n        ],\n        \"semantic_type\": \"\",\n        \"description\": \"\"\n      }\n    },\n    {\n      \"column\": \"power_ps\",\n      \"properties\": {\n        \"dtype\": \"number\",\n        \"std\": 119,\n        \"min\": 0,\n        \"max\": 10520,\n        \"num_unique_values\": 420,\n        \"samples\": [\n          344\n        ],\n        \"semantic_type\": \"\",\n        \"description\": \"\"\n      }\n    },\n    {\n      \"column\": \"model\",\n      \"properties\": {\n        \"dtype\": \"category\",\n        \"num_unique_values\": 244,\n        \"samples\": [\n          \"kadett\"\n        ],\n        \"semantic_type\": \"\",\n        \"description\": \"\"\n      }\n    },\n    {\n      \"column\": \"kilometer\",\n      \"properties\": {\n        \"dtype\": \"number\",\n        \"std\": 40091,\n        \"min\": 5000,\n        \"max\": 150000,\n        \"num_unique_values\": 13,\n        \"samples\": [\n          50000\n        ],\n        \"semantic_type\": \"\",\n        \"description\": \"\"\n      }\n    },\n    {\n      \"column\": \"registration_month\",\n      \"properties\": {\n        \"dtype\": \"number\",\n        \"std\": 3,\n        \"min\": 0,\n        \"max\": 12,\n        \"num_unique_values\": 13,\n        \"samples\": [\n          4\n        ],\n        \"semantic_type\": \"\",\n        \"description\": \"\"\n      }\n    },\n    {\n      \"column\": \"fuel_type\",\n      \"properties\": {\n        \"dtype\": \"category\",\n        \"num_unique_values\": 7,\n        \"samples\": [\n          \"benzin\"\n        ],\n        \"semantic_type\": \"\",\n        \"description\": \"\"\n      }\n    },\n    {\n      \"column\": \"brand\",\n      \"properties\": {\n        \"dtype\": \"category\",\n        \"num_unique_values\": 40,\n        \"samples\": [\n          \"sonstige_autos\"\n        ],\n        \"semantic_type\": \"\",\n        \"description\": \"\"\n      }\n    },\n    {\n      \"column\": \"unrepaired_damage\",\n      \"properties\": {\n        \"dtype\": \"category\",\n        \"num_unique_values\": 3,\n        \"samples\": [\n          \"ja\"\n        ],\n        \"semantic_type\": \"\",\n        \"description\": \"\"\n      }\n    },\n    {\n      \"column\": \"ad_created\",\n      \"properties\": {\n        \"dtype\": \"object\",\n        \"num_unique_values\": 68,\n        \"samples\": [\n          \"2016-01-27 00:00:00\"\n        ],\n        \"semantic_type\": \"\",\n        \"description\": \"\"\n      }\n    },\n    {\n      \"column\": \"nr_of_picture\",\n      \"properties\": {\n        \"dtype\": \"number\",\n        \"std\": 0.0,\n        \"min\": 0.0,\n        \"max\": 0.0,\n        \"num_unique_values\": 1,\n        \"samples\": [\n          0.0\n        ],\n        \"semantic_type\": \"\",\n        \"description\": \"\"\n      }\n    },\n    {\n      \"column\": \"postal_code\",\n      \"properties\": {\n        \"dtype\": \"number\",\n        \"std\": 25870.269049097977,\n        \"min\": 1067.0,\n        \"max\": 99994.0,\n        \"num_unique_values\": 6737,\n        \"samples\": [\n          57392.0\n        ],\n        \"semantic_type\": \"\",\n        \"description\": \"\"\n      }\n    },\n    {\n      \"column\": \"last_seen\",\n      \"properties\": {\n        \"dtype\": \"object\",\n        \"num_unique_values\": 32563,\n        \"samples\": [\n          \"2016-03-30 12:17:33\"\n        ],\n        \"semantic_type\": \"\",\n        \"description\": \"\"\n      }\n    }\n  ]\n}"
            }
          },
          "metadata": {},
          "execution_count": 11
        }
      ],
      "source": [
        "# mengubah nama kolom yang menggunakan camelCase menjadi snake-case\n",
        "change_name_column = {'dateCrawled': 'date_crawled',\n",
        "                      'offerType': 'offer_type',\n",
        "                      'vehicleType': 'vehicle_type',\n",
        "                      'yearOfRegistration': 'registration_year',\n",
        "                      'powerPS': 'power_ps',\n",
        "                      'monthOfRegistration': 'registration_month',\n",
        "                      'fuelType': 'fuel_type',\n",
        "                      'notRepairedDamage': 'unrepaired_damage',\n",
        "                      'dateCreated': 'ad_created',\n",
        "                      'nrOfPictures': 'nr_of_picture',\n",
        "                      'postalCode': 'postal_code',\n",
        "                      'lastSeen': 'last_seen',\n",
        "                      }\n",
        "\n",
        "autos = autos.rename(columns = change_name_column)\n",
        "autos.head(2)"
      ]
    },
    {
      "cell_type": "markdown",
      "metadata": {
        "id": "pT_mq0WFXjeg"
      },
      "source": [
        "## Ekploration of Data\n",
        "#### Melihat statistik deskriptif semua kolom"
      ]
    },
    {
      "cell_type": "code",
      "execution_count": 12,
      "metadata": {
        "colab": {
          "base_uri": "https://localhost:8080/",
          "height": 449
        },
        "id": "q7xRpQrzWENr",
        "outputId": "ee0fd93b-fc12-4700-eaac-ecb80fc411e1"
      },
      "outputs": [
        {
          "output_type": "execute_result",
          "data": {
            "text/plain": [
              "               date_crawled         name  seller offer_type         price  \\\n",
              "count                 39901        39901   39901      39901  3.990100e+04   \n",
              "unique                38779        31621       1          2           NaN   \n",
              "top     2016-03-21 12:38:30  Ford_Fiesta  privat    Angebot           NaN   \n",
              "freq                      3           82   39901      39900           NaN   \n",
              "mean                    NaN          NaN     NaN        NaN  6.964185e+03   \n",
              "std                     NaN          NaN     NaN        NaN  1.157854e+05   \n",
              "min                     NaN          NaN     NaN        NaN  0.000000e+00   \n",
              "25%                     NaN          NaN     NaN        NaN  1.150000e+03   \n",
              "50%                     NaN          NaN     NaN        NaN  2.950000e+03   \n",
              "75%                     NaN          NaN     NaN        NaN  7.100000e+03   \n",
              "max                     NaN          NaN     NaN        NaN  1.234568e+07   \n",
              "\n",
              "       abtest vehicle_type  registration_year  gearbox      power_ps  model  \\\n",
              "count   39901        35723       39901.000000    37733  39901.000000  37688   \n",
              "unique      2            8                NaN        2           NaN    244   \n",
              "top      test    limousine                NaN  manuell           NaN   golf   \n",
              "freq    20742        10288                NaN    29619           NaN   3147   \n",
              "mean      NaN          NaN        2004.680985      NaN    113.279767    NaN   \n",
              "std       NaN          NaN          98.524132      NaN    119.717529    NaN   \n",
              "min       NaN          NaN        1000.000000      NaN      0.000000    NaN   \n",
              "25%       NaN          NaN        1999.000000      NaN     69.000000    NaN   \n",
              "50%       NaN          NaN        2003.000000      NaN    105.000000    NaN   \n",
              "75%       NaN          NaN        2008.000000      NaN    150.000000    NaN   \n",
              "max       NaN          NaN        9999.000000      NaN  10520.000000    NaN   \n",
              "\n",
              "            kilometer  registration_month fuel_type       brand  \\\n",
              "count    39901.000000        39901.000000     36190       39901   \n",
              "unique            NaN                 NaN         7          40   \n",
              "top               NaN                 NaN    benzin  volkswagen   \n",
              "freq              NaN                 NaN     23827        8413   \n",
              "mean    125630.685948            5.741510       NaN         NaN   \n",
              "std      40091.031687            3.713283       NaN         NaN   \n",
              "min       5000.000000            0.000000       NaN         NaN   \n",
              "25%     125000.000000            3.000000       NaN         NaN   \n",
              "50%     150000.000000            6.000000       NaN         NaN   \n",
              "75%     150000.000000            9.000000       NaN         NaN   \n",
              "max     150000.000000           12.000000       NaN         NaN   \n",
              "\n",
              "       unrepaired_damage           ad_created  nr_of_picture   postal_code  \\\n",
              "count              32105                39900        39900.0  39900.000000   \n",
              "unique                 3                   68            NaN           NaN   \n",
              "top                 nein  2016-04-04 00:00:00            NaN           NaN   \n",
              "freq               28152                 1574            NaN           NaN   \n",
              "mean                 NaN                  NaN            0.0  50716.844461   \n",
              "std                  NaN                  NaN            0.0  25870.269049   \n",
              "min                  NaN                  NaN            0.0   1067.000000   \n",
              "25%                  NaN                  NaN            0.0  30171.000000   \n",
              "50%                  NaN                  NaN            0.0  49593.000000   \n",
              "75%                  NaN                  NaN            0.0  71570.000000   \n",
              "max                  NaN                  NaN            0.0  99994.000000   \n",
              "\n",
              "                  last_seen  \n",
              "count                 39900  \n",
              "unique                32563  \n",
              "top     2016-04-06 02:44:33  \n",
              "freq                      7  \n",
              "mean                    NaN  \n",
              "std                     NaN  \n",
              "min                     NaN  \n",
              "25%                     NaN  \n",
              "50%                     NaN  \n",
              "75%                     NaN  \n",
              "max                     NaN  "
            ],
            "text/html": [
              "\n",
              "  <div id=\"df-78170dfd-419f-4756-87d0-372a5d549493\" class=\"colab-df-container\">\n",
              "    <div>\n",
              "<style scoped>\n",
              "    .dataframe tbody tr th:only-of-type {\n",
              "        vertical-align: middle;\n",
              "    }\n",
              "\n",
              "    .dataframe tbody tr th {\n",
              "        vertical-align: top;\n",
              "    }\n",
              "\n",
              "    .dataframe thead th {\n",
              "        text-align: right;\n",
              "    }\n",
              "</style>\n",
              "<table border=\"1\" class=\"dataframe\">\n",
              "  <thead>\n",
              "    <tr style=\"text-align: right;\">\n",
              "      <th></th>\n",
              "      <th>date_crawled</th>\n",
              "      <th>name</th>\n",
              "      <th>seller</th>\n",
              "      <th>offer_type</th>\n",
              "      <th>price</th>\n",
              "      <th>abtest</th>\n",
              "      <th>vehicle_type</th>\n",
              "      <th>registration_year</th>\n",
              "      <th>gearbox</th>\n",
              "      <th>power_ps</th>\n",
              "      <th>model</th>\n",
              "      <th>kilometer</th>\n",
              "      <th>registration_month</th>\n",
              "      <th>fuel_type</th>\n",
              "      <th>brand</th>\n",
              "      <th>unrepaired_damage</th>\n",
              "      <th>ad_created</th>\n",
              "      <th>nr_of_picture</th>\n",
              "      <th>postal_code</th>\n",
              "      <th>last_seen</th>\n",
              "    </tr>\n",
              "  </thead>\n",
              "  <tbody>\n",
              "    <tr>\n",
              "      <th>count</th>\n",
              "      <td>39901</td>\n",
              "      <td>39901</td>\n",
              "      <td>39901</td>\n",
              "      <td>39901</td>\n",
              "      <td>3.990100e+04</td>\n",
              "      <td>39901</td>\n",
              "      <td>35723</td>\n",
              "      <td>39901.000000</td>\n",
              "      <td>37733</td>\n",
              "      <td>39901.000000</td>\n",
              "      <td>37688</td>\n",
              "      <td>39901.000000</td>\n",
              "      <td>39901.000000</td>\n",
              "      <td>36190</td>\n",
              "      <td>39901</td>\n",
              "      <td>32105</td>\n",
              "      <td>39900</td>\n",
              "      <td>39900.0</td>\n",
              "      <td>39900.000000</td>\n",
              "      <td>39900</td>\n",
              "    </tr>\n",
              "    <tr>\n",
              "      <th>unique</th>\n",
              "      <td>38779</td>\n",
              "      <td>31621</td>\n",
              "      <td>1</td>\n",
              "      <td>2</td>\n",
              "      <td>NaN</td>\n",
              "      <td>2</td>\n",
              "      <td>8</td>\n",
              "      <td>NaN</td>\n",
              "      <td>2</td>\n",
              "      <td>NaN</td>\n",
              "      <td>244</td>\n",
              "      <td>NaN</td>\n",
              "      <td>NaN</td>\n",
              "      <td>7</td>\n",
              "      <td>40</td>\n",
              "      <td>3</td>\n",
              "      <td>68</td>\n",
              "      <td>NaN</td>\n",
              "      <td>NaN</td>\n",
              "      <td>32563</td>\n",
              "    </tr>\n",
              "    <tr>\n",
              "      <th>top</th>\n",
              "      <td>2016-03-21 12:38:30</td>\n",
              "      <td>Ford_Fiesta</td>\n",
              "      <td>privat</td>\n",
              "      <td>Angebot</td>\n",
              "      <td>NaN</td>\n",
              "      <td>test</td>\n",
              "      <td>limousine</td>\n",
              "      <td>NaN</td>\n",
              "      <td>manuell</td>\n",
              "      <td>NaN</td>\n",
              "      <td>golf</td>\n",
              "      <td>NaN</td>\n",
              "      <td>NaN</td>\n",
              "      <td>benzin</td>\n",
              "      <td>volkswagen</td>\n",
              "      <td>nein</td>\n",
              "      <td>2016-04-04 00:00:00</td>\n",
              "      <td>NaN</td>\n",
              "      <td>NaN</td>\n",
              "      <td>2016-04-06 02:44:33</td>\n",
              "    </tr>\n",
              "    <tr>\n",
              "      <th>freq</th>\n",
              "      <td>3</td>\n",
              "      <td>82</td>\n",
              "      <td>39901</td>\n",
              "      <td>39900</td>\n",
              "      <td>NaN</td>\n",
              "      <td>20742</td>\n",
              "      <td>10288</td>\n",
              "      <td>NaN</td>\n",
              "      <td>29619</td>\n",
              "      <td>NaN</td>\n",
              "      <td>3147</td>\n",
              "      <td>NaN</td>\n",
              "      <td>NaN</td>\n",
              "      <td>23827</td>\n",
              "      <td>8413</td>\n",
              "      <td>28152</td>\n",
              "      <td>1574</td>\n",
              "      <td>NaN</td>\n",
              "      <td>NaN</td>\n",
              "      <td>7</td>\n",
              "    </tr>\n",
              "    <tr>\n",
              "      <th>mean</th>\n",
              "      <td>NaN</td>\n",
              "      <td>NaN</td>\n",
              "      <td>NaN</td>\n",
              "      <td>NaN</td>\n",
              "      <td>6.964185e+03</td>\n",
              "      <td>NaN</td>\n",
              "      <td>NaN</td>\n",
              "      <td>2004.680985</td>\n",
              "      <td>NaN</td>\n",
              "      <td>113.279767</td>\n",
              "      <td>NaN</td>\n",
              "      <td>125630.685948</td>\n",
              "      <td>5.741510</td>\n",
              "      <td>NaN</td>\n",
              "      <td>NaN</td>\n",
              "      <td>NaN</td>\n",
              "      <td>NaN</td>\n",
              "      <td>0.0</td>\n",
              "      <td>50716.844461</td>\n",
              "      <td>NaN</td>\n",
              "    </tr>\n",
              "    <tr>\n",
              "      <th>std</th>\n",
              "      <td>NaN</td>\n",
              "      <td>NaN</td>\n",
              "      <td>NaN</td>\n",
              "      <td>NaN</td>\n",
              "      <td>1.157854e+05</td>\n",
              "      <td>NaN</td>\n",
              "      <td>NaN</td>\n",
              "      <td>98.524132</td>\n",
              "      <td>NaN</td>\n",
              "      <td>119.717529</td>\n",
              "      <td>NaN</td>\n",
              "      <td>40091.031687</td>\n",
              "      <td>3.713283</td>\n",
              "      <td>NaN</td>\n",
              "      <td>NaN</td>\n",
              "      <td>NaN</td>\n",
              "      <td>NaN</td>\n",
              "      <td>0.0</td>\n",
              "      <td>25870.269049</td>\n",
              "      <td>NaN</td>\n",
              "    </tr>\n",
              "    <tr>\n",
              "      <th>min</th>\n",
              "      <td>NaN</td>\n",
              "      <td>NaN</td>\n",
              "      <td>NaN</td>\n",
              "      <td>NaN</td>\n",
              "      <td>0.000000e+00</td>\n",
              "      <td>NaN</td>\n",
              "      <td>NaN</td>\n",
              "      <td>1000.000000</td>\n",
              "      <td>NaN</td>\n",
              "      <td>0.000000</td>\n",
              "      <td>NaN</td>\n",
              "      <td>5000.000000</td>\n",
              "      <td>0.000000</td>\n",
              "      <td>NaN</td>\n",
              "      <td>NaN</td>\n",
              "      <td>NaN</td>\n",
              "      <td>NaN</td>\n",
              "      <td>0.0</td>\n",
              "      <td>1067.000000</td>\n",
              "      <td>NaN</td>\n",
              "    </tr>\n",
              "    <tr>\n",
              "      <th>25%</th>\n",
              "      <td>NaN</td>\n",
              "      <td>NaN</td>\n",
              "      <td>NaN</td>\n",
              "      <td>NaN</td>\n",
              "      <td>1.150000e+03</td>\n",
              "      <td>NaN</td>\n",
              "      <td>NaN</td>\n",
              "      <td>1999.000000</td>\n",
              "      <td>NaN</td>\n",
              "      <td>69.000000</td>\n",
              "      <td>NaN</td>\n",
              "      <td>125000.000000</td>\n",
              "      <td>3.000000</td>\n",
              "      <td>NaN</td>\n",
              "      <td>NaN</td>\n",
              "      <td>NaN</td>\n",
              "      <td>NaN</td>\n",
              "      <td>0.0</td>\n",
              "      <td>30171.000000</td>\n",
              "      <td>NaN</td>\n",
              "    </tr>\n",
              "    <tr>\n",
              "      <th>50%</th>\n",
              "      <td>NaN</td>\n",
              "      <td>NaN</td>\n",
              "      <td>NaN</td>\n",
              "      <td>NaN</td>\n",
              "      <td>2.950000e+03</td>\n",
              "      <td>NaN</td>\n",
              "      <td>NaN</td>\n",
              "      <td>2003.000000</td>\n",
              "      <td>NaN</td>\n",
              "      <td>105.000000</td>\n",
              "      <td>NaN</td>\n",
              "      <td>150000.000000</td>\n",
              "      <td>6.000000</td>\n",
              "      <td>NaN</td>\n",
              "      <td>NaN</td>\n",
              "      <td>NaN</td>\n",
              "      <td>NaN</td>\n",
              "      <td>0.0</td>\n",
              "      <td>49593.000000</td>\n",
              "      <td>NaN</td>\n",
              "    </tr>\n",
              "    <tr>\n",
              "      <th>75%</th>\n",
              "      <td>NaN</td>\n",
              "      <td>NaN</td>\n",
              "      <td>NaN</td>\n",
              "      <td>NaN</td>\n",
              "      <td>7.100000e+03</td>\n",
              "      <td>NaN</td>\n",
              "      <td>NaN</td>\n",
              "      <td>2008.000000</td>\n",
              "      <td>NaN</td>\n",
              "      <td>150.000000</td>\n",
              "      <td>NaN</td>\n",
              "      <td>150000.000000</td>\n",
              "      <td>9.000000</td>\n",
              "      <td>NaN</td>\n",
              "      <td>NaN</td>\n",
              "      <td>NaN</td>\n",
              "      <td>NaN</td>\n",
              "      <td>0.0</td>\n",
              "      <td>71570.000000</td>\n",
              "      <td>NaN</td>\n",
              "    </tr>\n",
              "    <tr>\n",
              "      <th>max</th>\n",
              "      <td>NaN</td>\n",
              "      <td>NaN</td>\n",
              "      <td>NaN</td>\n",
              "      <td>NaN</td>\n",
              "      <td>1.234568e+07</td>\n",
              "      <td>NaN</td>\n",
              "      <td>NaN</td>\n",
              "      <td>9999.000000</td>\n",
              "      <td>NaN</td>\n",
              "      <td>10520.000000</td>\n",
              "      <td>NaN</td>\n",
              "      <td>150000.000000</td>\n",
              "      <td>12.000000</td>\n",
              "      <td>NaN</td>\n",
              "      <td>NaN</td>\n",
              "      <td>NaN</td>\n",
              "      <td>NaN</td>\n",
              "      <td>0.0</td>\n",
              "      <td>99994.000000</td>\n",
              "      <td>NaN</td>\n",
              "    </tr>\n",
              "  </tbody>\n",
              "</table>\n",
              "</div>\n",
              "    <div class=\"colab-df-buttons\">\n",
              "\n",
              "  <div class=\"colab-df-container\">\n",
              "    <button class=\"colab-df-convert\" onclick=\"convertToInteractive('df-78170dfd-419f-4756-87d0-372a5d549493')\"\n",
              "            title=\"Convert this dataframe to an interactive table.\"\n",
              "            style=\"display:none;\">\n",
              "\n",
              "  <svg xmlns=\"http://www.w3.org/2000/svg\" height=\"24px\" viewBox=\"0 -960 960 960\">\n",
              "    <path d=\"M120-120v-720h720v720H120Zm60-500h600v-160H180v160Zm220 220h160v-160H400v160Zm0 220h160v-160H400v160ZM180-400h160v-160H180v160Zm440 0h160v-160H620v160ZM180-180h160v-160H180v160Zm440 0h160v-160H620v160Z\"/>\n",
              "  </svg>\n",
              "    </button>\n",
              "\n",
              "  <style>\n",
              "    .colab-df-container {\n",
              "      display:flex;\n",
              "      gap: 12px;\n",
              "    }\n",
              "\n",
              "    .colab-df-convert {\n",
              "      background-color: #E8F0FE;\n",
              "      border: none;\n",
              "      border-radius: 50%;\n",
              "      cursor: pointer;\n",
              "      display: none;\n",
              "      fill: #1967D2;\n",
              "      height: 32px;\n",
              "      padding: 0 0 0 0;\n",
              "      width: 32px;\n",
              "    }\n",
              "\n",
              "    .colab-df-convert:hover {\n",
              "      background-color: #E2EBFA;\n",
              "      box-shadow: 0px 1px 2px rgba(60, 64, 67, 0.3), 0px 1px 3px 1px rgba(60, 64, 67, 0.15);\n",
              "      fill: #174EA6;\n",
              "    }\n",
              "\n",
              "    .colab-df-buttons div {\n",
              "      margin-bottom: 4px;\n",
              "    }\n",
              "\n",
              "    [theme=dark] .colab-df-convert {\n",
              "      background-color: #3B4455;\n",
              "      fill: #D2E3FC;\n",
              "    }\n",
              "\n",
              "    [theme=dark] .colab-df-convert:hover {\n",
              "      background-color: #434B5C;\n",
              "      box-shadow: 0px 1px 3px 1px rgba(0, 0, 0, 0.15);\n",
              "      filter: drop-shadow(0px 1px 2px rgba(0, 0, 0, 0.3));\n",
              "      fill: #FFFFFF;\n",
              "    }\n",
              "  </style>\n",
              "\n",
              "    <script>\n",
              "      const buttonEl =\n",
              "        document.querySelector('#df-78170dfd-419f-4756-87d0-372a5d549493 button.colab-df-convert');\n",
              "      buttonEl.style.display =\n",
              "        google.colab.kernel.accessAllowed ? 'block' : 'none';\n",
              "\n",
              "      async function convertToInteractive(key) {\n",
              "        const element = document.querySelector('#df-78170dfd-419f-4756-87d0-372a5d549493');\n",
              "        const dataTable =\n",
              "          await google.colab.kernel.invokeFunction('convertToInteractive',\n",
              "                                                    [key], {});\n",
              "        if (!dataTable) return;\n",
              "\n",
              "        const docLinkHtml = 'Like what you see? Visit the ' +\n",
              "          '<a target=\"_blank\" href=https://colab.research.google.com/notebooks/data_table.ipynb>data table notebook</a>'\n",
              "          + ' to learn more about interactive tables.';\n",
              "        element.innerHTML = '';\n",
              "        dataTable['output_type'] = 'display_data';\n",
              "        await google.colab.output.renderOutput(dataTable, element);\n",
              "        const docLink = document.createElement('div');\n",
              "        docLink.innerHTML = docLinkHtml;\n",
              "        element.appendChild(docLink);\n",
              "      }\n",
              "    </script>\n",
              "  </div>\n",
              "\n",
              "\n",
              "<div id=\"df-dd8fff08-3c25-4498-b1e1-1cf40a91581d\">\n",
              "  <button class=\"colab-df-quickchart\" onclick=\"quickchart('df-dd8fff08-3c25-4498-b1e1-1cf40a91581d')\"\n",
              "            title=\"Suggest charts\"\n",
              "            style=\"display:none;\">\n",
              "\n",
              "<svg xmlns=\"http://www.w3.org/2000/svg\" height=\"24px\"viewBox=\"0 0 24 24\"\n",
              "     width=\"24px\">\n",
              "    <g>\n",
              "        <path d=\"M19 3H5c-1.1 0-2 .9-2 2v14c0 1.1.9 2 2 2h14c1.1 0 2-.9 2-2V5c0-1.1-.9-2-2-2zM9 17H7v-7h2v7zm4 0h-2V7h2v10zm4 0h-2v-4h2v4z\"/>\n",
              "    </g>\n",
              "</svg>\n",
              "  </button>\n",
              "\n",
              "<style>\n",
              "  .colab-df-quickchart {\n",
              "      --bg-color: #E8F0FE;\n",
              "      --fill-color: #1967D2;\n",
              "      --hover-bg-color: #E2EBFA;\n",
              "      --hover-fill-color: #174EA6;\n",
              "      --disabled-fill-color: #AAA;\n",
              "      --disabled-bg-color: #DDD;\n",
              "  }\n",
              "\n",
              "  [theme=dark] .colab-df-quickchart {\n",
              "      --bg-color: #3B4455;\n",
              "      --fill-color: #D2E3FC;\n",
              "      --hover-bg-color: #434B5C;\n",
              "      --hover-fill-color: #FFFFFF;\n",
              "      --disabled-bg-color: #3B4455;\n",
              "      --disabled-fill-color: #666;\n",
              "  }\n",
              "\n",
              "  .colab-df-quickchart {\n",
              "    background-color: var(--bg-color);\n",
              "    border: none;\n",
              "    border-radius: 50%;\n",
              "    cursor: pointer;\n",
              "    display: none;\n",
              "    fill: var(--fill-color);\n",
              "    height: 32px;\n",
              "    padding: 0;\n",
              "    width: 32px;\n",
              "  }\n",
              "\n",
              "  .colab-df-quickchart:hover {\n",
              "    background-color: var(--hover-bg-color);\n",
              "    box-shadow: 0 1px 2px rgba(60, 64, 67, 0.3), 0 1px 3px 1px rgba(60, 64, 67, 0.15);\n",
              "    fill: var(--button-hover-fill-color);\n",
              "  }\n",
              "\n",
              "  .colab-df-quickchart-complete:disabled,\n",
              "  .colab-df-quickchart-complete:disabled:hover {\n",
              "    background-color: var(--disabled-bg-color);\n",
              "    fill: var(--disabled-fill-color);\n",
              "    box-shadow: none;\n",
              "  }\n",
              "\n",
              "  .colab-df-spinner {\n",
              "    border: 2px solid var(--fill-color);\n",
              "    border-color: transparent;\n",
              "    border-bottom-color: var(--fill-color);\n",
              "    animation:\n",
              "      spin 1s steps(1) infinite;\n",
              "  }\n",
              "\n",
              "  @keyframes spin {\n",
              "    0% {\n",
              "      border-color: transparent;\n",
              "      border-bottom-color: var(--fill-color);\n",
              "      border-left-color: var(--fill-color);\n",
              "    }\n",
              "    20% {\n",
              "      border-color: transparent;\n",
              "      border-left-color: var(--fill-color);\n",
              "      border-top-color: var(--fill-color);\n",
              "    }\n",
              "    30% {\n",
              "      border-color: transparent;\n",
              "      border-left-color: var(--fill-color);\n",
              "      border-top-color: var(--fill-color);\n",
              "      border-right-color: var(--fill-color);\n",
              "    }\n",
              "    40% {\n",
              "      border-color: transparent;\n",
              "      border-right-color: var(--fill-color);\n",
              "      border-top-color: var(--fill-color);\n",
              "    }\n",
              "    60% {\n",
              "      border-color: transparent;\n",
              "      border-right-color: var(--fill-color);\n",
              "    }\n",
              "    80% {\n",
              "      border-color: transparent;\n",
              "      border-right-color: var(--fill-color);\n",
              "      border-bottom-color: var(--fill-color);\n",
              "    }\n",
              "    90% {\n",
              "      border-color: transparent;\n",
              "      border-bottom-color: var(--fill-color);\n",
              "    }\n",
              "  }\n",
              "</style>\n",
              "\n",
              "  <script>\n",
              "    async function quickchart(key) {\n",
              "      const quickchartButtonEl =\n",
              "        document.querySelector('#' + key + ' button');\n",
              "      quickchartButtonEl.disabled = true;  // To prevent multiple clicks.\n",
              "      quickchartButtonEl.classList.add('colab-df-spinner');\n",
              "      try {\n",
              "        const charts = await google.colab.kernel.invokeFunction(\n",
              "            'suggestCharts', [key], {});\n",
              "      } catch (error) {\n",
              "        console.error('Error during call to suggestCharts:', error);\n",
              "      }\n",
              "      quickchartButtonEl.classList.remove('colab-df-spinner');\n",
              "      quickchartButtonEl.classList.add('colab-df-quickchart-complete');\n",
              "    }\n",
              "    (() => {\n",
              "      let quickchartButtonEl =\n",
              "        document.querySelector('#df-dd8fff08-3c25-4498-b1e1-1cf40a91581d button');\n",
              "      quickchartButtonEl.style.display =\n",
              "        google.colab.kernel.accessAllowed ? 'block' : 'none';\n",
              "    })();\n",
              "  </script>\n",
              "</div>\n",
              "    </div>\n",
              "  </div>\n"
            ],
            "application/vnd.google.colaboratory.intrinsic+json": {
              "type": "dataframe",
              "summary": "{\n  \"name\": \"autos\",\n  \"rows\": 11,\n  \"fields\": [\n    {\n      \"column\": \"date_crawled\",\n      \"properties\": {\n        \"dtype\": \"date\",\n        \"min\": \"1970-01-01 00:00:00.000000003\",\n        \"max\": \"2016-03-21 12:38:30\",\n        \"num_unique_values\": 4,\n        \"samples\": [\n          38779,\n          \"3\",\n          \"39901\"\n        ],\n        \"semantic_type\": \"\",\n        \"description\": \"\"\n      }\n    },\n    {\n      \"column\": \"name\",\n      \"properties\": {\n        \"dtype\": \"category\",\n        \"num_unique_values\": 4,\n        \"samples\": [\n          31621,\n          \"82\",\n          \"39901\"\n        ],\n        \"semantic_type\": \"\",\n        \"description\": \"\"\n      }\n    },\n    {\n      \"column\": \"seller\",\n      \"properties\": {\n        \"dtype\": \"category\",\n        \"num_unique_values\": 3,\n        \"samples\": [\n          \"39901\",\n          1,\n          \"privat\"\n        ],\n        \"semantic_type\": \"\",\n        \"description\": \"\"\n      }\n    },\n    {\n      \"column\": \"offer_type\",\n      \"properties\": {\n        \"dtype\": \"category\",\n        \"num_unique_values\": 4,\n        \"samples\": [\n          2,\n          \"39900\",\n          \"39901\"\n        ],\n        \"semantic_type\": \"\",\n        \"description\": \"\"\n      }\n    },\n    {\n      \"column\": \"price\",\n      \"properties\": {\n        \"dtype\": \"number\",\n        \"std\": 4356252.4530043285,\n        \"min\": 0.0,\n        \"max\": 12345678.0,\n        \"num_unique_values\": 8,\n        \"samples\": [\n          6964.185283576852,\n          2950.0,\n          39901.0\n        ],\n        \"semantic_type\": \"\",\n        \"description\": \"\"\n      }\n    },\n    {\n      \"column\": \"abtest\",\n      \"properties\": {\n        \"dtype\": \"category\",\n        \"num_unique_values\": 4,\n        \"samples\": [\n          2,\n          \"20742\",\n          \"39901\"\n        ],\n        \"semantic_type\": \"\",\n        \"description\": \"\"\n      }\n    },\n    {\n      \"column\": \"vehicle_type\",\n      \"properties\": {\n        \"dtype\": \"category\",\n        \"num_unique_values\": 4,\n        \"samples\": [\n          8,\n          \"10288\",\n          \"35723\"\n        ],\n        \"semantic_type\": \"\",\n        \"description\": \"\"\n      }\n    },\n    {\n      \"column\": \"registration_year\",\n      \"properties\": {\n        \"dtype\": \"number\",\n        \"std\": 13489.776719408685,\n        \"min\": 98.52413216129668,\n        \"max\": 39901.0,\n        \"num_unique_values\": 8,\n        \"samples\": [\n          2004.6809854389614,\n          2003.0,\n          39901.0\n        ],\n        \"semantic_type\": \"\",\n        \"description\": \"\"\n      }\n    },\n    {\n      \"column\": \"gearbox\",\n      \"properties\": {\n        \"dtype\": \"category\",\n        \"num_unique_values\": 4,\n        \"samples\": [\n          2,\n          \"29619\",\n          \"37733\"\n        ],\n        \"semantic_type\": \"\",\n        \"description\": \"\"\n      }\n    },\n    {\n      \"column\": \"power_ps\",\n      \"properties\": {\n        \"dtype\": \"number\",\n        \"std\": 14030.482760988278,\n        \"min\": 0.0,\n        \"max\": 39901.0,\n        \"num_unique_values\": 8,\n        \"samples\": [\n          113.27976742437532,\n          105.0,\n          39901.0\n        ],\n        \"semantic_type\": \"\",\n        \"description\": \"\"\n      }\n    },\n    {\n      \"column\": \"model\",\n      \"properties\": {\n        \"dtype\": \"category\",\n        \"num_unique_values\": 4,\n        \"samples\": [\n          244,\n          \"3147\",\n          \"37688\"\n        ],\n        \"semantic_type\": \"\",\n        \"description\": \"\"\n      }\n    },\n    {\n      \"column\": \"kilometer\",\n      \"properties\": {\n        \"dtype\": \"number\",\n        \"std\": 59739.99386198447,\n        \"min\": 5000.0,\n        \"max\": 150000.0,\n        \"num_unique_values\": 6,\n        \"samples\": [\n          39901.0,\n          125630.6859477206,\n          150000.0\n        ],\n        \"semantic_type\": \"\",\n        \"description\": \"\"\n      }\n    },\n    {\n      \"column\": \"registration_month\",\n      \"properties\": {\n        \"dtype\": \"number\",\n        \"std\": 14105.141547973035,\n        \"min\": 0.0,\n        \"max\": 39901.0,\n        \"num_unique_values\": 8,\n        \"samples\": [\n          5.741510237838651,\n          6.0,\n          39901.0\n        ],\n        \"semantic_type\": \"\",\n        \"description\": \"\"\n      }\n    },\n    {\n      \"column\": \"fuel_type\",\n      \"properties\": {\n        \"dtype\": \"category\",\n        \"num_unique_values\": 4,\n        \"samples\": [\n          7,\n          \"23827\",\n          \"36190\"\n        ],\n        \"semantic_type\": \"\",\n        \"description\": \"\"\n      }\n    },\n    {\n      \"column\": \"brand\",\n      \"properties\": {\n        \"dtype\": \"category\",\n        \"num_unique_values\": 4,\n        \"samples\": [\n          40,\n          \"8413\",\n          \"39901\"\n        ],\n        \"semantic_type\": \"\",\n        \"description\": \"\"\n      }\n    },\n    {\n      \"column\": \"unrepaired_damage\",\n      \"properties\": {\n        \"dtype\": \"category\",\n        \"num_unique_values\": 4,\n        \"samples\": [\n          3,\n          \"28152\",\n          \"32105\"\n        ],\n        \"semantic_type\": \"\",\n        \"description\": \"\"\n      }\n    },\n    {\n      \"column\": \"ad_created\",\n      \"properties\": {\n        \"dtype\": \"date\",\n        \"min\": \"1970-01-01 00:00:00.000000068\",\n        \"max\": \"2016-04-04 00:00:00\",\n        \"num_unique_values\": 4,\n        \"samples\": [\n          68,\n          \"1574\",\n          \"39900\"\n        ],\n        \"semantic_type\": \"\",\n        \"description\": \"\"\n      }\n    },\n    {\n      \"column\": \"nr_of_picture\",\n      \"properties\": {\n        \"dtype\": \"number\",\n        \"std\": 14106.780284671622,\n        \"min\": 0.0,\n        \"max\": 39900.0,\n        \"num_unique_values\": 2,\n        \"samples\": [\n          0.0,\n          39900.0\n        ],\n        \"semantic_type\": \"\",\n        \"description\": \"\"\n      }\n    },\n    {\n      \"column\": \"postal_code\",\n      \"properties\": {\n        \"dtype\": \"number\",\n        \"std\": 30038.512753976804,\n        \"min\": 1067.0,\n        \"max\": 99994.0,\n        \"num_unique_values\": 8,\n        \"samples\": [\n          50716.84446115288,\n          49593.0\n        ],\n        \"semantic_type\": \"\",\n        \"description\": \"\"\n      }\n    },\n    {\n      \"column\": \"last_seen\",\n      \"properties\": {\n        \"dtype\": \"date\",\n        \"min\": \"1970-01-01 00:00:00.000000007\",\n        \"max\": \"2016-04-06 02:44:33\",\n        \"num_unique_values\": 4,\n        \"samples\": [\n          32563,\n          \"7\"\n        ],\n        \"semantic_type\": \"\",\n        \"description\": \"\"\n      }\n    }\n  ]\n}"
            }
          },
          "metadata": {},
          "execution_count": 12
        }
      ],
      "source": [
        "# melihat statistik deskiptif semua kolom\n",
        "autos.describe(include='all')"
      ]
    },
    {
      "cell_type": "markdown",
      "metadata": {
        "id": "SGSlIvUbu1QT"
      },
      "source": [
        "1. kolom yang paling banyak memiliki NaN nilai:\n",
        "- seller, offer_type, vehicle_type, brand\n",
        "\n",
        "2. Kolom yang memiliki nilai kosong:\n",
        "- nr_of_picture\n",
        "\n",
        "3. kolom yang membutuhkan penyelidikan lebih lanjut:\n",
        "- registration_year: memiliki nilai min dan max yang tidak realistis\n",
        "- price : memiliki nilai min dan max harga yang tidak realistis\n"
      ]
    },
    {
      "cell_type": "code",
      "execution_count": 13,
      "metadata": {
        "colab": {
          "base_uri": "https://localhost:8080/"
        },
        "id": "en9Ge95YPEqV",
        "outputId": "88f60e2c-c340-4730-ebad-77f395795843"
      },
      "outputs": [
        {
          "output_type": "stream",
          "name": "stdout",
          "text": [
            "<class 'pandas.core.frame.DataFrame'>\n",
            "RangeIndex: 39901 entries, 0 to 39900\n",
            "Data columns (total 20 columns):\n",
            " #   Column              Non-Null Count  Dtype  \n",
            "---  ------              --------------  -----  \n",
            " 0   date_crawled        39901 non-null  object \n",
            " 1   name                39901 non-null  object \n",
            " 2   seller              39901 non-null  object \n",
            " 3   offer_type          39901 non-null  object \n",
            " 4   price               39901 non-null  int64  \n",
            " 5   abtest              39901 non-null  object \n",
            " 6   vehicle_type        35723 non-null  object \n",
            " 7   registration_year   39901 non-null  int64  \n",
            " 8   gearbox             37733 non-null  object \n",
            " 9   power_ps            39901 non-null  int64  \n",
            " 10  model               37688 non-null  object \n",
            " 11  kilometer           39901 non-null  int64  \n",
            " 12  registration_month  39901 non-null  int64  \n",
            " 13  fuel_type           36190 non-null  object \n",
            " 14  brand               39901 non-null  object \n",
            " 15  unrepaired_damage   32105 non-null  object \n",
            " 16  ad_created          39900 non-null  object \n",
            " 17  nr_of_picture       39900 non-null  float64\n",
            " 18  postal_code         39900 non-null  float64\n",
            " 19  last_seen           39900 non-null  object \n",
            "dtypes: float64(2), int64(5), object(13)\n",
            "memory usage: 6.1+ MB\n"
          ]
        }
      ],
      "source": [
        "# info dataset\n",
        "autos.info()"
      ]
    },
    {
      "cell_type": "markdown",
      "metadata": {
        "id": "3KrK7O-T_0ac"
      },
      "source": [
        "kita drop dulu kolom nr_of_picture karena semua data bernilai 0 dan juga tidak dibutuhkan dalam proses analisis"
      ]
    },
    {
      "cell_type": "code",
      "execution_count": 14,
      "metadata": {
        "id": "WQNSKv7T_yOn"
      },
      "outputs": [],
      "source": [
        "# hapus kolom nr_of_picture\n",
        "del autos['nr_of_picture']"
      ]
    },
    {
      "cell_type": "markdown",
      "metadata": {
        "id": "f2EsXBMwA-TZ"
      },
      "source": [
        "mengubah tipe data dari date_crawled dari object menjadi datetime"
      ]
    },
    {
      "cell_type": "code",
      "execution_count": 15,
      "metadata": {
        "colab": {
          "base_uri": "https://localhost:8080/"
        },
        "id": "1Ch8auM4b622",
        "outputId": "70f3bb0a-7d9c-46b5-f88d-4289ed70f1b2"
      },
      "outputs": [
        {
          "output_type": "execute_result",
          "data": {
            "text/plain": [
              "0       2016-03-24 11:52:17\n",
              "1       2016-03-24 10:58:45\n",
              "2       2016-03-14 12:52:21\n",
              "3       2016-03-17 16:54:04\n",
              "4       2016-03-31 17:25:20\n",
              "                ...        \n",
              "39896   2016-03-24 00:57:00\n",
              "39897   2016-03-31 18:55:48\n",
              "39898   2016-03-08 09:57:12\n",
              "39899   2016-03-28 17:54:18\n",
              "39900   2016-03-14 13:50:46\n",
              "Name: date_crawled, Length: 39901, dtype: datetime64[ns]"
            ]
          },
          "metadata": {},
          "execution_count": 15
        }
      ],
      "source": [
        "# Convert kolom date_crawled\n",
        "autos.date_crawled = pd.to_datetime(autos.date_crawled, yearfirst=True)\n",
        "\n",
        "# Tampilkan data tanggal dan waktu setelah diconvert\n",
        "autos.date_crawled"
      ]
    },
    {
      "cell_type": "markdown",
      "metadata": {
        "id": "75TDEleYCG1z"
      },
      "source": [
        "mengubah tipe data dari last_seen dari object menjadi datetime"
      ]
    },
    {
      "cell_type": "code",
      "execution_count": 16,
      "metadata": {
        "colab": {
          "base_uri": "https://localhost:8080/"
        },
        "id": "DfiXIkAbCC5a",
        "outputId": "9e71d36b-beb3-4808-d6b5-db26e760c139"
      },
      "outputs": [
        {
          "output_type": "execute_result",
          "data": {
            "text/plain": [
              "0       2016-04-07 03:16:57\n",
              "1       2016-04-07 01:46:50\n",
              "2       2016-04-05 12:47:46\n",
              "3       2016-03-17 17:40:17\n",
              "4       2016-04-06 10:17:21\n",
              "                ...        \n",
              "39896   2016-04-06 20:47:44\n",
              "39897   2016-03-31 18:55:48\n",
              "39898   2016-04-06 20:19:29\n",
              "39899   2016-03-28 17:54:18\n",
              "39900                   NaT\n",
              "Name: last_seen, Length: 39901, dtype: datetime64[ns]"
            ]
          },
          "metadata": {},
          "execution_count": 16
        }
      ],
      "source": [
        "# Convert kolom last_seen\n",
        "autos.last_seen = pd.to_datetime(autos.last_seen, yearfirst=True)\n",
        "\n",
        "# Tampilkan data tanggal dan waktu setelah diconvert\n",
        "autos.last_seen"
      ]
    },
    {
      "cell_type": "markdown",
      "metadata": {
        "id": "EYn2LuqhDF-C"
      },
      "source": [
        "mengubah tipe data dari ad_created dari object menjadi datetime"
      ]
    },
    {
      "cell_type": "code",
      "execution_count": 17,
      "metadata": {
        "colab": {
          "base_uri": "https://localhost:8080/"
        },
        "id": "ybAfxoTqfmWt",
        "outputId": "3cc0616e-2bf5-463f-bd81-e3d309fab8c1"
      },
      "outputs": [
        {
          "output_type": "execute_result",
          "data": {
            "text/plain": [
              "0       2016-03-24\n",
              "1       2016-03-24\n",
              "2       2016-03-14\n",
              "3       2016-03-17\n",
              "4       2016-03-31\n",
              "           ...    \n",
              "39896   2016-03-23\n",
              "39897   2016-03-31\n",
              "39898   2016-03-08\n",
              "39899   2016-03-28\n",
              "39900          NaT\n",
              "Name: ad_created, Length: 39901, dtype: datetime64[ns]"
            ]
          },
          "metadata": {},
          "execution_count": 17
        }
      ],
      "source": [
        "# Convert kolom ad_created\n",
        "autos.ad_created = pd.to_datetime(autos.ad_created, yearfirst=True)\n",
        "\n",
        "# Tampilkan data tanggal dan waktu setelah diconvert\n",
        "autos.ad_created"
      ]
    },
    {
      "cell_type": "code",
      "execution_count": 18,
      "metadata": {
        "colab": {
          "base_uri": "https://localhost:8080/"
        },
        "id": "ZTsSlYWIqNOn",
        "outputId": "27e948e3-5ae6-4b02-844e-4a87d29f416a"
      },
      "outputs": [
        {
          "output_type": "stream",
          "name": "stdout",
          "text": [
            "<class 'pandas.core.frame.DataFrame'>\n",
            "RangeIndex: 39901 entries, 0 to 39900\n",
            "Data columns (total 19 columns):\n",
            " #   Column              Non-Null Count  Dtype         \n",
            "---  ------              --------------  -----         \n",
            " 0   date_crawled        39901 non-null  datetime64[ns]\n",
            " 1   name                39901 non-null  object        \n",
            " 2   seller              39901 non-null  object        \n",
            " 3   offer_type          39901 non-null  object        \n",
            " 4   price               39901 non-null  int64         \n",
            " 5   abtest              39901 non-null  object        \n",
            " 6   vehicle_type        35723 non-null  object        \n",
            " 7   registration_year   39901 non-null  int64         \n",
            " 8   gearbox             37733 non-null  object        \n",
            " 9   power_ps            39901 non-null  int64         \n",
            " 10  model               37688 non-null  object        \n",
            " 11  kilometer           39901 non-null  int64         \n",
            " 12  registration_month  39901 non-null  int64         \n",
            " 13  fuel_type           36190 non-null  object        \n",
            " 14  brand               39901 non-null  object        \n",
            " 15  unrepaired_damage   32105 non-null  object        \n",
            " 16  ad_created          39900 non-null  datetime64[ns]\n",
            " 17  postal_code         39900 non-null  float64       \n",
            " 18  last_seen           39900 non-null  datetime64[ns]\n",
            "dtypes: datetime64[ns](3), float64(1), int64(5), object(10)\n",
            "memory usage: 5.8+ MB\n"
          ]
        }
      ],
      "source": [
        "# cek kembali tipe data tiap kolom\n",
        "autos.info()"
      ]
    },
    {
      "cell_type": "markdown",
      "metadata": {
        "id": "_sDwNvM1mPgY"
      },
      "source": [
        "## Cek Missing Value"
      ]
    },
    {
      "cell_type": "code",
      "execution_count": 19,
      "metadata": {
        "colab": {
          "base_uri": "https://localhost:8080/",
          "height": 645
        },
        "id": "n3R2YRIZiHJ8",
        "outputId": "60a7ef96-d4e1-4c66-ffdb-31a98bdff696"
      },
      "outputs": [
        {
          "output_type": "execute_result",
          "data": {
            "text/plain": [
              "                    NaN_count  NaN_percentage\n",
              "unrepaired_damage        7796        0.195384\n",
              "vehicle_type             4178        0.104709\n",
              "fuel_type                3711        0.093005\n",
              "model                    2213        0.055462\n",
              "gearbox                  2168        0.054334\n",
              "last_seen                   1        0.000025\n",
              "postal_code                 1        0.000025\n",
              "ad_created                  1        0.000025\n",
              "registration_year           0        0.000000\n",
              "seller                      0        0.000000\n",
              "offer_type                  0        0.000000\n",
              "price                       0        0.000000\n",
              "abtest                      0        0.000000\n",
              "brand                       0        0.000000\n",
              "name                        0        0.000000\n",
              "date_crawled                0        0.000000\n",
              "registration_month          0        0.000000\n",
              "kilometer                   0        0.000000\n",
              "power_ps                    0        0.000000"
            ],
            "text/html": [
              "\n",
              "  <div id=\"df-2955fb3f-369e-48a0-82f0-e0de6adb2482\" class=\"colab-df-container\">\n",
              "    <div>\n",
              "<style scoped>\n",
              "    .dataframe tbody tr th:only-of-type {\n",
              "        vertical-align: middle;\n",
              "    }\n",
              "\n",
              "    .dataframe tbody tr th {\n",
              "        vertical-align: top;\n",
              "    }\n",
              "\n",
              "    .dataframe thead th {\n",
              "        text-align: right;\n",
              "    }\n",
              "</style>\n",
              "<table border=\"1\" class=\"dataframe\">\n",
              "  <thead>\n",
              "    <tr style=\"text-align: right;\">\n",
              "      <th></th>\n",
              "      <th>NaN_count</th>\n",
              "      <th>NaN_percentage</th>\n",
              "    </tr>\n",
              "  </thead>\n",
              "  <tbody>\n",
              "    <tr>\n",
              "      <th>unrepaired_damage</th>\n",
              "      <td>7796</td>\n",
              "      <td>0.195384</td>\n",
              "    </tr>\n",
              "    <tr>\n",
              "      <th>vehicle_type</th>\n",
              "      <td>4178</td>\n",
              "      <td>0.104709</td>\n",
              "    </tr>\n",
              "    <tr>\n",
              "      <th>fuel_type</th>\n",
              "      <td>3711</td>\n",
              "      <td>0.093005</td>\n",
              "    </tr>\n",
              "    <tr>\n",
              "      <th>model</th>\n",
              "      <td>2213</td>\n",
              "      <td>0.055462</td>\n",
              "    </tr>\n",
              "    <tr>\n",
              "      <th>gearbox</th>\n",
              "      <td>2168</td>\n",
              "      <td>0.054334</td>\n",
              "    </tr>\n",
              "    <tr>\n",
              "      <th>last_seen</th>\n",
              "      <td>1</td>\n",
              "      <td>0.000025</td>\n",
              "    </tr>\n",
              "    <tr>\n",
              "      <th>postal_code</th>\n",
              "      <td>1</td>\n",
              "      <td>0.000025</td>\n",
              "    </tr>\n",
              "    <tr>\n",
              "      <th>ad_created</th>\n",
              "      <td>1</td>\n",
              "      <td>0.000025</td>\n",
              "    </tr>\n",
              "    <tr>\n",
              "      <th>registration_year</th>\n",
              "      <td>0</td>\n",
              "      <td>0.000000</td>\n",
              "    </tr>\n",
              "    <tr>\n",
              "      <th>seller</th>\n",
              "      <td>0</td>\n",
              "      <td>0.000000</td>\n",
              "    </tr>\n",
              "    <tr>\n",
              "      <th>offer_type</th>\n",
              "      <td>0</td>\n",
              "      <td>0.000000</td>\n",
              "    </tr>\n",
              "    <tr>\n",
              "      <th>price</th>\n",
              "      <td>0</td>\n",
              "      <td>0.000000</td>\n",
              "    </tr>\n",
              "    <tr>\n",
              "      <th>abtest</th>\n",
              "      <td>0</td>\n",
              "      <td>0.000000</td>\n",
              "    </tr>\n",
              "    <tr>\n",
              "      <th>brand</th>\n",
              "      <td>0</td>\n",
              "      <td>0.000000</td>\n",
              "    </tr>\n",
              "    <tr>\n",
              "      <th>name</th>\n",
              "      <td>0</td>\n",
              "      <td>0.000000</td>\n",
              "    </tr>\n",
              "    <tr>\n",
              "      <th>date_crawled</th>\n",
              "      <td>0</td>\n",
              "      <td>0.000000</td>\n",
              "    </tr>\n",
              "    <tr>\n",
              "      <th>registration_month</th>\n",
              "      <td>0</td>\n",
              "      <td>0.000000</td>\n",
              "    </tr>\n",
              "    <tr>\n",
              "      <th>kilometer</th>\n",
              "      <td>0</td>\n",
              "      <td>0.000000</td>\n",
              "    </tr>\n",
              "    <tr>\n",
              "      <th>power_ps</th>\n",
              "      <td>0</td>\n",
              "      <td>0.000000</td>\n",
              "    </tr>\n",
              "  </tbody>\n",
              "</table>\n",
              "</div>\n",
              "    <div class=\"colab-df-buttons\">\n",
              "\n",
              "  <div class=\"colab-df-container\">\n",
              "    <button class=\"colab-df-convert\" onclick=\"convertToInteractive('df-2955fb3f-369e-48a0-82f0-e0de6adb2482')\"\n",
              "            title=\"Convert this dataframe to an interactive table.\"\n",
              "            style=\"display:none;\">\n",
              "\n",
              "  <svg xmlns=\"http://www.w3.org/2000/svg\" height=\"24px\" viewBox=\"0 -960 960 960\">\n",
              "    <path d=\"M120-120v-720h720v720H120Zm60-500h600v-160H180v160Zm220 220h160v-160H400v160Zm0 220h160v-160H400v160ZM180-400h160v-160H180v160Zm440 0h160v-160H620v160ZM180-180h160v-160H180v160Zm440 0h160v-160H620v160Z\"/>\n",
              "  </svg>\n",
              "    </button>\n",
              "\n",
              "  <style>\n",
              "    .colab-df-container {\n",
              "      display:flex;\n",
              "      gap: 12px;\n",
              "    }\n",
              "\n",
              "    .colab-df-convert {\n",
              "      background-color: #E8F0FE;\n",
              "      border: none;\n",
              "      border-radius: 50%;\n",
              "      cursor: pointer;\n",
              "      display: none;\n",
              "      fill: #1967D2;\n",
              "      height: 32px;\n",
              "      padding: 0 0 0 0;\n",
              "      width: 32px;\n",
              "    }\n",
              "\n",
              "    .colab-df-convert:hover {\n",
              "      background-color: #E2EBFA;\n",
              "      box-shadow: 0px 1px 2px rgba(60, 64, 67, 0.3), 0px 1px 3px 1px rgba(60, 64, 67, 0.15);\n",
              "      fill: #174EA6;\n",
              "    }\n",
              "\n",
              "    .colab-df-buttons div {\n",
              "      margin-bottom: 4px;\n",
              "    }\n",
              "\n",
              "    [theme=dark] .colab-df-convert {\n",
              "      background-color: #3B4455;\n",
              "      fill: #D2E3FC;\n",
              "    }\n",
              "\n",
              "    [theme=dark] .colab-df-convert:hover {\n",
              "      background-color: #434B5C;\n",
              "      box-shadow: 0px 1px 3px 1px rgba(0, 0, 0, 0.15);\n",
              "      filter: drop-shadow(0px 1px 2px rgba(0, 0, 0, 0.3));\n",
              "      fill: #FFFFFF;\n",
              "    }\n",
              "  </style>\n",
              "\n",
              "    <script>\n",
              "      const buttonEl =\n",
              "        document.querySelector('#df-2955fb3f-369e-48a0-82f0-e0de6adb2482 button.colab-df-convert');\n",
              "      buttonEl.style.display =\n",
              "        google.colab.kernel.accessAllowed ? 'block' : 'none';\n",
              "\n",
              "      async function convertToInteractive(key) {\n",
              "        const element = document.querySelector('#df-2955fb3f-369e-48a0-82f0-e0de6adb2482');\n",
              "        const dataTable =\n",
              "          await google.colab.kernel.invokeFunction('convertToInteractive',\n",
              "                                                    [key], {});\n",
              "        if (!dataTable) return;\n",
              "\n",
              "        const docLinkHtml = 'Like what you see? Visit the ' +\n",
              "          '<a target=\"_blank\" href=https://colab.research.google.com/notebooks/data_table.ipynb>data table notebook</a>'\n",
              "          + ' to learn more about interactive tables.';\n",
              "        element.innerHTML = '';\n",
              "        dataTable['output_type'] = 'display_data';\n",
              "        await google.colab.output.renderOutput(dataTable, element);\n",
              "        const docLink = document.createElement('div');\n",
              "        docLink.innerHTML = docLinkHtml;\n",
              "        element.appendChild(docLink);\n",
              "      }\n",
              "    </script>\n",
              "  </div>\n",
              "\n",
              "\n",
              "<div id=\"df-281361b3-77e1-4f73-9514-9bd36c39de38\">\n",
              "  <button class=\"colab-df-quickchart\" onclick=\"quickchart('df-281361b3-77e1-4f73-9514-9bd36c39de38')\"\n",
              "            title=\"Suggest charts\"\n",
              "            style=\"display:none;\">\n",
              "\n",
              "<svg xmlns=\"http://www.w3.org/2000/svg\" height=\"24px\"viewBox=\"0 0 24 24\"\n",
              "     width=\"24px\">\n",
              "    <g>\n",
              "        <path d=\"M19 3H5c-1.1 0-2 .9-2 2v14c0 1.1.9 2 2 2h14c1.1 0 2-.9 2-2V5c0-1.1-.9-2-2-2zM9 17H7v-7h2v7zm4 0h-2V7h2v10zm4 0h-2v-4h2v4z\"/>\n",
              "    </g>\n",
              "</svg>\n",
              "  </button>\n",
              "\n",
              "<style>\n",
              "  .colab-df-quickchart {\n",
              "      --bg-color: #E8F0FE;\n",
              "      --fill-color: #1967D2;\n",
              "      --hover-bg-color: #E2EBFA;\n",
              "      --hover-fill-color: #174EA6;\n",
              "      --disabled-fill-color: #AAA;\n",
              "      --disabled-bg-color: #DDD;\n",
              "  }\n",
              "\n",
              "  [theme=dark] .colab-df-quickchart {\n",
              "      --bg-color: #3B4455;\n",
              "      --fill-color: #D2E3FC;\n",
              "      --hover-bg-color: #434B5C;\n",
              "      --hover-fill-color: #FFFFFF;\n",
              "      --disabled-bg-color: #3B4455;\n",
              "      --disabled-fill-color: #666;\n",
              "  }\n",
              "\n",
              "  .colab-df-quickchart {\n",
              "    background-color: var(--bg-color);\n",
              "    border: none;\n",
              "    border-radius: 50%;\n",
              "    cursor: pointer;\n",
              "    display: none;\n",
              "    fill: var(--fill-color);\n",
              "    height: 32px;\n",
              "    padding: 0;\n",
              "    width: 32px;\n",
              "  }\n",
              "\n",
              "  .colab-df-quickchart:hover {\n",
              "    background-color: var(--hover-bg-color);\n",
              "    box-shadow: 0 1px 2px rgba(60, 64, 67, 0.3), 0 1px 3px 1px rgba(60, 64, 67, 0.15);\n",
              "    fill: var(--button-hover-fill-color);\n",
              "  }\n",
              "\n",
              "  .colab-df-quickchart-complete:disabled,\n",
              "  .colab-df-quickchart-complete:disabled:hover {\n",
              "    background-color: var(--disabled-bg-color);\n",
              "    fill: var(--disabled-fill-color);\n",
              "    box-shadow: none;\n",
              "  }\n",
              "\n",
              "  .colab-df-spinner {\n",
              "    border: 2px solid var(--fill-color);\n",
              "    border-color: transparent;\n",
              "    border-bottom-color: var(--fill-color);\n",
              "    animation:\n",
              "      spin 1s steps(1) infinite;\n",
              "  }\n",
              "\n",
              "  @keyframes spin {\n",
              "    0% {\n",
              "      border-color: transparent;\n",
              "      border-bottom-color: var(--fill-color);\n",
              "      border-left-color: var(--fill-color);\n",
              "    }\n",
              "    20% {\n",
              "      border-color: transparent;\n",
              "      border-left-color: var(--fill-color);\n",
              "      border-top-color: var(--fill-color);\n",
              "    }\n",
              "    30% {\n",
              "      border-color: transparent;\n",
              "      border-left-color: var(--fill-color);\n",
              "      border-top-color: var(--fill-color);\n",
              "      border-right-color: var(--fill-color);\n",
              "    }\n",
              "    40% {\n",
              "      border-color: transparent;\n",
              "      border-right-color: var(--fill-color);\n",
              "      border-top-color: var(--fill-color);\n",
              "    }\n",
              "    60% {\n",
              "      border-color: transparent;\n",
              "      border-right-color: var(--fill-color);\n",
              "    }\n",
              "    80% {\n",
              "      border-color: transparent;\n",
              "      border-right-color: var(--fill-color);\n",
              "      border-bottom-color: var(--fill-color);\n",
              "    }\n",
              "    90% {\n",
              "      border-color: transparent;\n",
              "      border-bottom-color: var(--fill-color);\n",
              "    }\n",
              "  }\n",
              "</style>\n",
              "\n",
              "  <script>\n",
              "    async function quickchart(key) {\n",
              "      const quickchartButtonEl =\n",
              "        document.querySelector('#' + key + ' button');\n",
              "      quickchartButtonEl.disabled = true;  // To prevent multiple clicks.\n",
              "      quickchartButtonEl.classList.add('colab-df-spinner');\n",
              "      try {\n",
              "        const charts = await google.colab.kernel.invokeFunction(\n",
              "            'suggestCharts', [key], {});\n",
              "      } catch (error) {\n",
              "        console.error('Error during call to suggestCharts:', error);\n",
              "      }\n",
              "      quickchartButtonEl.classList.remove('colab-df-spinner');\n",
              "      quickchartButtonEl.classList.add('colab-df-quickchart-complete');\n",
              "    }\n",
              "    (() => {\n",
              "      let quickchartButtonEl =\n",
              "        document.querySelector('#df-281361b3-77e1-4f73-9514-9bd36c39de38 button');\n",
              "      quickchartButtonEl.style.display =\n",
              "        google.colab.kernel.accessAllowed ? 'block' : 'none';\n",
              "    })();\n",
              "  </script>\n",
              "</div>\n",
              "    </div>\n",
              "  </div>\n"
            ],
            "application/vnd.google.colaboratory.intrinsic+json": {
              "type": "dataframe",
              "variable_name": "missing_data",
              "summary": "{\n  \"name\": \"missing_data\",\n  \"rows\": 19,\n  \"fields\": [\n    {\n      \"column\": \"NaN_count\",\n      \"properties\": {\n        \"dtype\": \"number\",\n        \"std\": 2113,\n        \"min\": 0,\n        \"max\": 7796,\n        \"num_unique_values\": 7,\n        \"samples\": [\n          7796,\n          4178,\n          1\n        ],\n        \"semantic_type\": \"\",\n        \"description\": \"\"\n      }\n    },\n    {\n      \"column\": \"NaN_percentage\",\n      \"properties\": {\n        \"dtype\": \"number\",\n        \"std\": 0.052968726130587604,\n        \"min\": 0.0,\n        \"max\": 0.1953835743465076,\n        \"num_unique_values\": 7,\n        \"samples\": [\n          0.1953835743465076,\n          0.10470915515901857,\n          2.5062028520588457e-05\n        ],\n        \"semantic_type\": \"\",\n        \"description\": \"\"\n      }\n    }\n  ]\n}"
            }
          },
          "metadata": {},
          "execution_count": 19
        }
      ],
      "source": [
        "# Mendapatkan jumlah missing value tiap kolom\n",
        "# dan mengurutkan dari yang terbesar ke terkecil\n",
        "missing = autos.isna().sum().sort_values(ascending = False)\n",
        "# construct a dataframe consists of NaN count and NaN percentage from the dataset\n",
        "missing_data = pd.DataFrame({'NaN_count': missing, 'NaN_percentage': missing / len(autos)}).sort_values(by = 'NaN_percentage', ascending = False)\n",
        "\n",
        "# print the missing value information\n",
        "missing_data"
      ]
    },
    {
      "cell_type": "code",
      "execution_count": 20,
      "metadata": {
        "colab": {
          "base_uri": "https://localhost:8080/",
          "height": 143
        },
        "id": "qd9bE0r2m8yF",
        "outputId": "0e56f53a-70fe-45a4-b2a6-e070539cf270"
      },
      "outputs": [
        {
          "output_type": "execute_result",
          "data": {
            "text/plain": [
              "  unrepaired_damage vehicle_type fuel_type  model    gearbox\n",
              "0               NaN          NaN    benzin   golf    manuell\n",
              "1                ja        coupe    diesel    NaN    manuell\n",
              "2               NaN          suv    diesel  grand  automatik"
            ],
            "text/html": [
              "\n",
              "  <div id=\"df-10f0506e-bb58-4ad4-a606-b709550b8545\" class=\"colab-df-container\">\n",
              "    <div>\n",
              "<style scoped>\n",
              "    .dataframe tbody tr th:only-of-type {\n",
              "        vertical-align: middle;\n",
              "    }\n",
              "\n",
              "    .dataframe tbody tr th {\n",
              "        vertical-align: top;\n",
              "    }\n",
              "\n",
              "    .dataframe thead th {\n",
              "        text-align: right;\n",
              "    }\n",
              "</style>\n",
              "<table border=\"1\" class=\"dataframe\">\n",
              "  <thead>\n",
              "    <tr style=\"text-align: right;\">\n",
              "      <th></th>\n",
              "      <th>unrepaired_damage</th>\n",
              "      <th>vehicle_type</th>\n",
              "      <th>fuel_type</th>\n",
              "      <th>model</th>\n",
              "      <th>gearbox</th>\n",
              "    </tr>\n",
              "  </thead>\n",
              "  <tbody>\n",
              "    <tr>\n",
              "      <th>0</th>\n",
              "      <td>NaN</td>\n",
              "      <td>NaN</td>\n",
              "      <td>benzin</td>\n",
              "      <td>golf</td>\n",
              "      <td>manuell</td>\n",
              "    </tr>\n",
              "    <tr>\n",
              "      <th>1</th>\n",
              "      <td>ja</td>\n",
              "      <td>coupe</td>\n",
              "      <td>diesel</td>\n",
              "      <td>NaN</td>\n",
              "      <td>manuell</td>\n",
              "    </tr>\n",
              "    <tr>\n",
              "      <th>2</th>\n",
              "      <td>NaN</td>\n",
              "      <td>suv</td>\n",
              "      <td>diesel</td>\n",
              "      <td>grand</td>\n",
              "      <td>automatik</td>\n",
              "    </tr>\n",
              "  </tbody>\n",
              "</table>\n",
              "</div>\n",
              "    <div class=\"colab-df-buttons\">\n",
              "\n",
              "  <div class=\"colab-df-container\">\n",
              "    <button class=\"colab-df-convert\" onclick=\"convertToInteractive('df-10f0506e-bb58-4ad4-a606-b709550b8545')\"\n",
              "            title=\"Convert this dataframe to an interactive table.\"\n",
              "            style=\"display:none;\">\n",
              "\n",
              "  <svg xmlns=\"http://www.w3.org/2000/svg\" height=\"24px\" viewBox=\"0 -960 960 960\">\n",
              "    <path d=\"M120-120v-720h720v720H120Zm60-500h600v-160H180v160Zm220 220h160v-160H400v160Zm0 220h160v-160H400v160ZM180-400h160v-160H180v160Zm440 0h160v-160H620v160ZM180-180h160v-160H180v160Zm440 0h160v-160H620v160Z\"/>\n",
              "  </svg>\n",
              "    </button>\n",
              "\n",
              "  <style>\n",
              "    .colab-df-container {\n",
              "      display:flex;\n",
              "      gap: 12px;\n",
              "    }\n",
              "\n",
              "    .colab-df-convert {\n",
              "      background-color: #E8F0FE;\n",
              "      border: none;\n",
              "      border-radius: 50%;\n",
              "      cursor: pointer;\n",
              "      display: none;\n",
              "      fill: #1967D2;\n",
              "      height: 32px;\n",
              "      padding: 0 0 0 0;\n",
              "      width: 32px;\n",
              "    }\n",
              "\n",
              "    .colab-df-convert:hover {\n",
              "      background-color: #E2EBFA;\n",
              "      box-shadow: 0px 1px 2px rgba(60, 64, 67, 0.3), 0px 1px 3px 1px rgba(60, 64, 67, 0.15);\n",
              "      fill: #174EA6;\n",
              "    }\n",
              "\n",
              "    .colab-df-buttons div {\n",
              "      margin-bottom: 4px;\n",
              "    }\n",
              "\n",
              "    [theme=dark] .colab-df-convert {\n",
              "      background-color: #3B4455;\n",
              "      fill: #D2E3FC;\n",
              "    }\n",
              "\n",
              "    [theme=dark] .colab-df-convert:hover {\n",
              "      background-color: #434B5C;\n",
              "      box-shadow: 0px 1px 3px 1px rgba(0, 0, 0, 0.15);\n",
              "      filter: drop-shadow(0px 1px 2px rgba(0, 0, 0, 0.3));\n",
              "      fill: #FFFFFF;\n",
              "    }\n",
              "  </style>\n",
              "\n",
              "    <script>\n",
              "      const buttonEl =\n",
              "        document.querySelector('#df-10f0506e-bb58-4ad4-a606-b709550b8545 button.colab-df-convert');\n",
              "      buttonEl.style.display =\n",
              "        google.colab.kernel.accessAllowed ? 'block' : 'none';\n",
              "\n",
              "      async function convertToInteractive(key) {\n",
              "        const element = document.querySelector('#df-10f0506e-bb58-4ad4-a606-b709550b8545');\n",
              "        const dataTable =\n",
              "          await google.colab.kernel.invokeFunction('convertToInteractive',\n",
              "                                                    [key], {});\n",
              "        if (!dataTable) return;\n",
              "\n",
              "        const docLinkHtml = 'Like what you see? Visit the ' +\n",
              "          '<a target=\"_blank\" href=https://colab.research.google.com/notebooks/data_table.ipynb>data table notebook</a>'\n",
              "          + ' to learn more about interactive tables.';\n",
              "        element.innerHTML = '';\n",
              "        dataTable['output_type'] = 'display_data';\n",
              "        await google.colab.output.renderOutput(dataTable, element);\n",
              "        const docLink = document.createElement('div');\n",
              "        docLink.innerHTML = docLinkHtml;\n",
              "        element.appendChild(docLink);\n",
              "      }\n",
              "    </script>\n",
              "  </div>\n",
              "\n",
              "\n",
              "<div id=\"df-20e01a77-6526-4db7-9adf-610c2b64946d\">\n",
              "  <button class=\"colab-df-quickchart\" onclick=\"quickchart('df-20e01a77-6526-4db7-9adf-610c2b64946d')\"\n",
              "            title=\"Suggest charts\"\n",
              "            style=\"display:none;\">\n",
              "\n",
              "<svg xmlns=\"http://www.w3.org/2000/svg\" height=\"24px\"viewBox=\"0 0 24 24\"\n",
              "     width=\"24px\">\n",
              "    <g>\n",
              "        <path d=\"M19 3H5c-1.1 0-2 .9-2 2v14c0 1.1.9 2 2 2h14c1.1 0 2-.9 2-2V5c0-1.1-.9-2-2-2zM9 17H7v-7h2v7zm4 0h-2V7h2v10zm4 0h-2v-4h2v4z\"/>\n",
              "    </g>\n",
              "</svg>\n",
              "  </button>\n",
              "\n",
              "<style>\n",
              "  .colab-df-quickchart {\n",
              "      --bg-color: #E8F0FE;\n",
              "      --fill-color: #1967D2;\n",
              "      --hover-bg-color: #E2EBFA;\n",
              "      --hover-fill-color: #174EA6;\n",
              "      --disabled-fill-color: #AAA;\n",
              "      --disabled-bg-color: #DDD;\n",
              "  }\n",
              "\n",
              "  [theme=dark] .colab-df-quickchart {\n",
              "      --bg-color: #3B4455;\n",
              "      --fill-color: #D2E3FC;\n",
              "      --hover-bg-color: #434B5C;\n",
              "      --hover-fill-color: #FFFFFF;\n",
              "      --disabled-bg-color: #3B4455;\n",
              "      --disabled-fill-color: #666;\n",
              "  }\n",
              "\n",
              "  .colab-df-quickchart {\n",
              "    background-color: var(--bg-color);\n",
              "    border: none;\n",
              "    border-radius: 50%;\n",
              "    cursor: pointer;\n",
              "    display: none;\n",
              "    fill: var(--fill-color);\n",
              "    height: 32px;\n",
              "    padding: 0;\n",
              "    width: 32px;\n",
              "  }\n",
              "\n",
              "  .colab-df-quickchart:hover {\n",
              "    background-color: var(--hover-bg-color);\n",
              "    box-shadow: 0 1px 2px rgba(60, 64, 67, 0.3), 0 1px 3px 1px rgba(60, 64, 67, 0.15);\n",
              "    fill: var(--button-hover-fill-color);\n",
              "  }\n",
              "\n",
              "  .colab-df-quickchart-complete:disabled,\n",
              "  .colab-df-quickchart-complete:disabled:hover {\n",
              "    background-color: var(--disabled-bg-color);\n",
              "    fill: var(--disabled-fill-color);\n",
              "    box-shadow: none;\n",
              "  }\n",
              "\n",
              "  .colab-df-spinner {\n",
              "    border: 2px solid var(--fill-color);\n",
              "    border-color: transparent;\n",
              "    border-bottom-color: var(--fill-color);\n",
              "    animation:\n",
              "      spin 1s steps(1) infinite;\n",
              "  }\n",
              "\n",
              "  @keyframes spin {\n",
              "    0% {\n",
              "      border-color: transparent;\n",
              "      border-bottom-color: var(--fill-color);\n",
              "      border-left-color: var(--fill-color);\n",
              "    }\n",
              "    20% {\n",
              "      border-color: transparent;\n",
              "      border-left-color: var(--fill-color);\n",
              "      border-top-color: var(--fill-color);\n",
              "    }\n",
              "    30% {\n",
              "      border-color: transparent;\n",
              "      border-left-color: var(--fill-color);\n",
              "      border-top-color: var(--fill-color);\n",
              "      border-right-color: var(--fill-color);\n",
              "    }\n",
              "    40% {\n",
              "      border-color: transparent;\n",
              "      border-right-color: var(--fill-color);\n",
              "      border-top-color: var(--fill-color);\n",
              "    }\n",
              "    60% {\n",
              "      border-color: transparent;\n",
              "      border-right-color: var(--fill-color);\n",
              "    }\n",
              "    80% {\n",
              "      border-color: transparent;\n",
              "      border-right-color: var(--fill-color);\n",
              "      border-bottom-color: var(--fill-color);\n",
              "    }\n",
              "    90% {\n",
              "      border-color: transparent;\n",
              "      border-bottom-color: var(--fill-color);\n",
              "    }\n",
              "  }\n",
              "</style>\n",
              "\n",
              "  <script>\n",
              "    async function quickchart(key) {\n",
              "      const quickchartButtonEl =\n",
              "        document.querySelector('#' + key + ' button');\n",
              "      quickchartButtonEl.disabled = true;  // To prevent multiple clicks.\n",
              "      quickchartButtonEl.classList.add('colab-df-spinner');\n",
              "      try {\n",
              "        const charts = await google.colab.kernel.invokeFunction(\n",
              "            'suggestCharts', [key], {});\n",
              "      } catch (error) {\n",
              "        console.error('Error during call to suggestCharts:', error);\n",
              "      }\n",
              "      quickchartButtonEl.classList.remove('colab-df-spinner');\n",
              "      quickchartButtonEl.classList.add('colab-df-quickchart-complete');\n",
              "    }\n",
              "    (() => {\n",
              "      let quickchartButtonEl =\n",
              "        document.querySelector('#df-20e01a77-6526-4db7-9adf-610c2b64946d button');\n",
              "      quickchartButtonEl.style.display =\n",
              "        google.colab.kernel.accessAllowed ? 'block' : 'none';\n",
              "    })();\n",
              "  </script>\n",
              "</div>\n",
              "    </div>\n",
              "  </div>\n"
            ],
            "application/vnd.google.colaboratory.intrinsic+json": {
              "type": "dataframe",
              "summary": "{\n  \"name\": \"       \\\"gearbox\\\"]]\",\n  \"rows\": 3,\n  \"fields\": [\n    {\n      \"column\": \"unrepaired_damage\",\n      \"properties\": {\n        \"dtype\": \"category\",\n        \"num_unique_values\": 1,\n        \"samples\": [\n          \"ja\"\n        ],\n        \"semantic_type\": \"\",\n        \"description\": \"\"\n      }\n    },\n    {\n      \"column\": \"vehicle_type\",\n      \"properties\": {\n        \"dtype\": \"string\",\n        \"num_unique_values\": 2,\n        \"samples\": [\n          \"suv\"\n        ],\n        \"semantic_type\": \"\",\n        \"description\": \"\"\n      }\n    },\n    {\n      \"column\": \"fuel_type\",\n      \"properties\": {\n        \"dtype\": \"string\",\n        \"num_unique_values\": 2,\n        \"samples\": [\n          \"diesel\"\n        ],\n        \"semantic_type\": \"\",\n        \"description\": \"\"\n      }\n    },\n    {\n      \"column\": \"model\",\n      \"properties\": {\n        \"dtype\": \"string\",\n        \"num_unique_values\": 2,\n        \"samples\": [\n          \"grand\"\n        ],\n        \"semantic_type\": \"\",\n        \"description\": \"\"\n      }\n    },\n    {\n      \"column\": \"gearbox\",\n      \"properties\": {\n        \"dtype\": \"string\",\n        \"num_unique_values\": 2,\n        \"samples\": [\n          \"automatik\"\n        ],\n        \"semantic_type\": \"\",\n        \"description\": \"\"\n      }\n    }\n  ]\n}"
            }
          },
          "metadata": {},
          "execution_count": 20
        }
      ],
      "source": [
        "#data teratas kolom yang memiliki nan\n",
        "autos[[\"unrepaired_damage\",\n",
        "       \"vehicle_type\",\n",
        "       \"fuel_type\",\n",
        "       \"model\",\n",
        "       \"gearbox\"]].head(3)"
      ]
    },
    {
      "cell_type": "code",
      "execution_count": 21,
      "metadata": {
        "colab": {
          "base_uri": "https://localhost:8080/"
        },
        "id": "uXefhRK6nV9y",
        "outputId": "9198c2bf-cd2e-4c72-b336-94fa953ec80b"
      },
      "outputs": [
        {
          "output_type": "stream",
          "name": "stdout",
          "text": [
            "<class 'pandas.core.frame.DataFrame'>\n",
            "RangeIndex: 39901 entries, 0 to 39900\n",
            "Data columns (total 5 columns):\n",
            " #   Column             Non-Null Count  Dtype \n",
            "---  ------             --------------  ----- \n",
            " 0   unrepaired_damage  32105 non-null  object\n",
            " 1   vehicle_type       35723 non-null  object\n",
            " 2   fuel_type          36190 non-null  object\n",
            " 3   model              37688 non-null  object\n",
            " 4   gearbox            37733 non-null  object\n",
            "dtypes: object(5)\n",
            "memory usage: 1.5+ MB\n"
          ]
        }
      ],
      "source": [
        "# cek info data yang memiliki missing value\n",
        "autos[[\"unrepaired_damage\",\n",
        "       \"vehicle_type\",\n",
        "       \"fuel_type\",\n",
        "       \"model\",\n",
        "       \"gearbox\"]].info()"
      ]
    },
    {
      "cell_type": "markdown",
      "metadata": {
        "id": "xgHcztYRoCbt"
      },
      "source": [
        "- kolom unrepaired_damage : kita ubah nilai \"NaN\" menjadi \"other\"\n",
        "- kolom vehicle_type : kita ubah nilai \"NaN\" menjadi \"other\"\n",
        "- kolom fuel_type : kita ubah nilai \"NaN\" menjadi \"other\"\n",
        "- kolom model : kita ubah nilai \"NaN\" menjadi \"other\"\n",
        "- kolom gearbox : kita ubah nilai \"NaN\" menjadi \"not-exist\""
      ]
    },
    {
      "cell_type": "markdown",
      "metadata": {
        "id": "dYw9BVY8ycPN"
      },
      "source": [
        "## Handle missing value"
      ]
    },
    {
      "cell_type": "markdown",
      "metadata": {
        "id": "tyNip4sMO-SN"
      },
      "source": [
        "handle missing value pada kolom unrepaired_damage"
      ]
    },
    {
      "cell_type": "code",
      "execution_count": 22,
      "metadata": {
        "colab": {
          "base_uri": "https://localhost:8080/"
        },
        "id": "Gfz40mC7MBLO",
        "outputId": "d8233848-5712-4bc6-b2eb-5d5712dd2c12"
      },
      "outputs": [
        {
          "output_type": "execute_result",
          "data": {
            "text/plain": [
              "array(['other', 'ja', 'nein', 'n'], dtype=object)"
            ]
          },
          "metadata": {},
          "execution_count": 22
        }
      ],
      "source": [
        "# Mengganti nilai yang hilang dengan \"other\"\n",
        "autos.unrepaired_damage.fillna('other', inplace=True)\n",
        "\n",
        "# Menampilkan DataFrame setelah mengganti nilai yang hilang\n",
        "autos.unrepaired_damage.unique()"
      ]
    },
    {
      "cell_type": "markdown",
      "metadata": {
        "id": "AVESXEWTQtOP"
      },
      "source": [
        "handle missing value pada kolom vehicle_type\n",
        "\n"
      ]
    },
    {
      "cell_type": "code",
      "execution_count": 23,
      "metadata": {
        "colab": {
          "base_uri": "https://localhost:8080/"
        },
        "id": "4_5GWRg3yykc",
        "outputId": "f454685f-3aae-4928-8b72-4eb583ad3912"
      },
      "outputs": [
        {
          "output_type": "execute_result",
          "data": {
            "text/plain": [
              "array(['other', 'coupe', 'suv', 'kleinwagen', 'limousine', 'cabrio',\n",
              "       'bus', 'kombi', 'andere'], dtype=object)"
            ]
          },
          "metadata": {},
          "execution_count": 23
        }
      ],
      "source": [
        "# Mengganti nilai yang hilang dengan \"other\"\n",
        "autos.vehicle_type.fillna('other', inplace=True)\n",
        "\n",
        "# Menampilkan DataFrame setelah mengganti nilai yang hilang\n",
        "autos.vehicle_type.unique()"
      ]
    },
    {
      "cell_type": "markdown",
      "metadata": {
        "id": "7uc46fRQT-tL"
      },
      "source": [
        "handle missing value pada kolom fuel_type"
      ]
    },
    {
      "cell_type": "code",
      "execution_count": 24,
      "metadata": {
        "colab": {
          "base_uri": "https://localhost:8080/"
        },
        "id": "YM7i-PJyT-FE",
        "outputId": "15bcb750-6673-4743-c8cb-77e089afd29c"
      },
      "outputs": [
        {
          "output_type": "execute_result",
          "data": {
            "text/plain": [
              "array(['benzin', 'diesel', 'other', 'lpg', 'andere', 'hybrid', 'cng',\n",
              "       'elektro'], dtype=object)"
            ]
          },
          "metadata": {},
          "execution_count": 24
        }
      ],
      "source": [
        "# Mengganti nilai yang hilang dengan \"other\"\n",
        "autos.fuel_type.fillna('other', inplace=True)\n",
        "\n",
        "# Menampilkan DataFrame setelah mengganti nilai yang hilang\n",
        "autos.fuel_type.unique()"
      ]
    },
    {
      "cell_type": "markdown",
      "metadata": {
        "id": "3N7WRZ08U3JJ"
      },
      "source": [
        "handle missing value pada kolom model"
      ]
    },
    {
      "cell_type": "code",
      "execution_count": 25,
      "metadata": {
        "colab": {
          "base_uri": "https://localhost:8080/"
        },
        "id": "k2IhWt--UbR7",
        "outputId": "10fc3cf6-f482-47af-b467-daeeadc3b389"
      },
      "outputs": [
        {
          "output_type": "execute_result",
          "data": {
            "text/plain": [
              "0             golf\n",
              "1            other\n",
              "2            grand\n",
              "3             golf\n",
              "4            fabia\n",
              "           ...    \n",
              "39896         golf\n",
              "39897    ptcruiser\n",
              "39898           a3\n",
              "39899           a8\n",
              "39900     a_klasse\n",
              "Name: model, Length: 39901, dtype: object"
            ]
          },
          "metadata": {},
          "execution_count": 25
        }
      ],
      "source": [
        "# Mengganti nilai yang hilang dengan \"other\"\n",
        "autos.model.fillna('other', inplace=True)\n",
        "\n",
        "# Menampilkan DataFrame setelah mengganti nilai yang hilang\n",
        "autos.model"
      ]
    },
    {
      "cell_type": "markdown",
      "metadata": {
        "id": "yINFXPo1Vkfq"
      },
      "source": [
        "handle missing value pada kolom gearbox\n"
      ]
    },
    {
      "cell_type": "code",
      "execution_count": 26,
      "metadata": {
        "colab": {
          "base_uri": "https://localhost:8080/"
        },
        "id": "Ar0sY1d1Vo77",
        "outputId": "62f87b81-09ae-41e3-c538-f9acf06e3bb1"
      },
      "outputs": [
        {
          "output_type": "execute_result",
          "data": {
            "text/plain": [
              "array(['manuell', 'automatik', 'not-exist'], dtype=object)"
            ]
          },
          "metadata": {},
          "execution_count": 26
        }
      ],
      "source": [
        "# Mengganti nilai yang hilang dengan \"not-exist\"\n",
        "autos.gearbox.fillna('not-exist', inplace=True)\n",
        "\n",
        "# Menampilkan DataFrame setelah mengganti nilai yang hilang\n",
        "autos.gearbox.unique()"
      ]
    },
    {
      "cell_type": "markdown",
      "metadata": {
        "id": "rIiIljdifZ1x"
      },
      "source": [
        "Cek Kembali Jumlah Missing Value"
      ]
    },
    {
      "cell_type": "code",
      "execution_count": 27,
      "metadata": {
        "colab": {
          "base_uri": "https://localhost:8080/",
          "height": 645
        },
        "id": "RQJ8xjwQfWZW",
        "outputId": "f2ad9c8a-c53f-4184-94f1-95aa87661943"
      },
      "outputs": [
        {
          "output_type": "execute_result",
          "data": {
            "text/plain": [
              "                    NaN_count  NaN_percentage\n",
              "last_seen                   1        0.000025\n",
              "ad_created                  1        0.000025\n",
              "postal_code                 1        0.000025\n",
              "gearbox                     0        0.000000\n",
              "seller                      0        0.000000\n",
              "offer_type                  0        0.000000\n",
              "price                       0        0.000000\n",
              "abtest                      0        0.000000\n",
              "vehicle_type                0        0.000000\n",
              "registration_year           0        0.000000\n",
              "date_crawled                0        0.000000\n",
              "name                        0        0.000000\n",
              "kilometer                   0        0.000000\n",
              "registration_month          0        0.000000\n",
              "fuel_type                   0        0.000000\n",
              "brand                       0        0.000000\n",
              "unrepaired_damage           0        0.000000\n",
              "model                       0        0.000000\n",
              "power_ps                    0        0.000000"
            ],
            "text/html": [
              "\n",
              "  <div id=\"df-c8641239-e75f-4b0e-b4b4-c62a82585c5f\" class=\"colab-df-container\">\n",
              "    <div>\n",
              "<style scoped>\n",
              "    .dataframe tbody tr th:only-of-type {\n",
              "        vertical-align: middle;\n",
              "    }\n",
              "\n",
              "    .dataframe tbody tr th {\n",
              "        vertical-align: top;\n",
              "    }\n",
              "\n",
              "    .dataframe thead th {\n",
              "        text-align: right;\n",
              "    }\n",
              "</style>\n",
              "<table border=\"1\" class=\"dataframe\">\n",
              "  <thead>\n",
              "    <tr style=\"text-align: right;\">\n",
              "      <th></th>\n",
              "      <th>NaN_count</th>\n",
              "      <th>NaN_percentage</th>\n",
              "    </tr>\n",
              "  </thead>\n",
              "  <tbody>\n",
              "    <tr>\n",
              "      <th>last_seen</th>\n",
              "      <td>1</td>\n",
              "      <td>0.000025</td>\n",
              "    </tr>\n",
              "    <tr>\n",
              "      <th>ad_created</th>\n",
              "      <td>1</td>\n",
              "      <td>0.000025</td>\n",
              "    </tr>\n",
              "    <tr>\n",
              "      <th>postal_code</th>\n",
              "      <td>1</td>\n",
              "      <td>0.000025</td>\n",
              "    </tr>\n",
              "    <tr>\n",
              "      <th>gearbox</th>\n",
              "      <td>0</td>\n",
              "      <td>0.000000</td>\n",
              "    </tr>\n",
              "    <tr>\n",
              "      <th>seller</th>\n",
              "      <td>0</td>\n",
              "      <td>0.000000</td>\n",
              "    </tr>\n",
              "    <tr>\n",
              "      <th>offer_type</th>\n",
              "      <td>0</td>\n",
              "      <td>0.000000</td>\n",
              "    </tr>\n",
              "    <tr>\n",
              "      <th>price</th>\n",
              "      <td>0</td>\n",
              "      <td>0.000000</td>\n",
              "    </tr>\n",
              "    <tr>\n",
              "      <th>abtest</th>\n",
              "      <td>0</td>\n",
              "      <td>0.000000</td>\n",
              "    </tr>\n",
              "    <tr>\n",
              "      <th>vehicle_type</th>\n",
              "      <td>0</td>\n",
              "      <td>0.000000</td>\n",
              "    </tr>\n",
              "    <tr>\n",
              "      <th>registration_year</th>\n",
              "      <td>0</td>\n",
              "      <td>0.000000</td>\n",
              "    </tr>\n",
              "    <tr>\n",
              "      <th>date_crawled</th>\n",
              "      <td>0</td>\n",
              "      <td>0.000000</td>\n",
              "    </tr>\n",
              "    <tr>\n",
              "      <th>name</th>\n",
              "      <td>0</td>\n",
              "      <td>0.000000</td>\n",
              "    </tr>\n",
              "    <tr>\n",
              "      <th>kilometer</th>\n",
              "      <td>0</td>\n",
              "      <td>0.000000</td>\n",
              "    </tr>\n",
              "    <tr>\n",
              "      <th>registration_month</th>\n",
              "      <td>0</td>\n",
              "      <td>0.000000</td>\n",
              "    </tr>\n",
              "    <tr>\n",
              "      <th>fuel_type</th>\n",
              "      <td>0</td>\n",
              "      <td>0.000000</td>\n",
              "    </tr>\n",
              "    <tr>\n",
              "      <th>brand</th>\n",
              "      <td>0</td>\n",
              "      <td>0.000000</td>\n",
              "    </tr>\n",
              "    <tr>\n",
              "      <th>unrepaired_damage</th>\n",
              "      <td>0</td>\n",
              "      <td>0.000000</td>\n",
              "    </tr>\n",
              "    <tr>\n",
              "      <th>model</th>\n",
              "      <td>0</td>\n",
              "      <td>0.000000</td>\n",
              "    </tr>\n",
              "    <tr>\n",
              "      <th>power_ps</th>\n",
              "      <td>0</td>\n",
              "      <td>0.000000</td>\n",
              "    </tr>\n",
              "  </tbody>\n",
              "</table>\n",
              "</div>\n",
              "    <div class=\"colab-df-buttons\">\n",
              "\n",
              "  <div class=\"colab-df-container\">\n",
              "    <button class=\"colab-df-convert\" onclick=\"convertToInteractive('df-c8641239-e75f-4b0e-b4b4-c62a82585c5f')\"\n",
              "            title=\"Convert this dataframe to an interactive table.\"\n",
              "            style=\"display:none;\">\n",
              "\n",
              "  <svg xmlns=\"http://www.w3.org/2000/svg\" height=\"24px\" viewBox=\"0 -960 960 960\">\n",
              "    <path d=\"M120-120v-720h720v720H120Zm60-500h600v-160H180v160Zm220 220h160v-160H400v160Zm0 220h160v-160H400v160ZM180-400h160v-160H180v160Zm440 0h160v-160H620v160ZM180-180h160v-160H180v160Zm440 0h160v-160H620v160Z\"/>\n",
              "  </svg>\n",
              "    </button>\n",
              "\n",
              "  <style>\n",
              "    .colab-df-container {\n",
              "      display:flex;\n",
              "      gap: 12px;\n",
              "    }\n",
              "\n",
              "    .colab-df-convert {\n",
              "      background-color: #E8F0FE;\n",
              "      border: none;\n",
              "      border-radius: 50%;\n",
              "      cursor: pointer;\n",
              "      display: none;\n",
              "      fill: #1967D2;\n",
              "      height: 32px;\n",
              "      padding: 0 0 0 0;\n",
              "      width: 32px;\n",
              "    }\n",
              "\n",
              "    .colab-df-convert:hover {\n",
              "      background-color: #E2EBFA;\n",
              "      box-shadow: 0px 1px 2px rgba(60, 64, 67, 0.3), 0px 1px 3px 1px rgba(60, 64, 67, 0.15);\n",
              "      fill: #174EA6;\n",
              "    }\n",
              "\n",
              "    .colab-df-buttons div {\n",
              "      margin-bottom: 4px;\n",
              "    }\n",
              "\n",
              "    [theme=dark] .colab-df-convert {\n",
              "      background-color: #3B4455;\n",
              "      fill: #D2E3FC;\n",
              "    }\n",
              "\n",
              "    [theme=dark] .colab-df-convert:hover {\n",
              "      background-color: #434B5C;\n",
              "      box-shadow: 0px 1px 3px 1px rgba(0, 0, 0, 0.15);\n",
              "      filter: drop-shadow(0px 1px 2px rgba(0, 0, 0, 0.3));\n",
              "      fill: #FFFFFF;\n",
              "    }\n",
              "  </style>\n",
              "\n",
              "    <script>\n",
              "      const buttonEl =\n",
              "        document.querySelector('#df-c8641239-e75f-4b0e-b4b4-c62a82585c5f button.colab-df-convert');\n",
              "      buttonEl.style.display =\n",
              "        google.colab.kernel.accessAllowed ? 'block' : 'none';\n",
              "\n",
              "      async function convertToInteractive(key) {\n",
              "        const element = document.querySelector('#df-c8641239-e75f-4b0e-b4b4-c62a82585c5f');\n",
              "        const dataTable =\n",
              "          await google.colab.kernel.invokeFunction('convertToInteractive',\n",
              "                                                    [key], {});\n",
              "        if (!dataTable) return;\n",
              "\n",
              "        const docLinkHtml = 'Like what you see? Visit the ' +\n",
              "          '<a target=\"_blank\" href=https://colab.research.google.com/notebooks/data_table.ipynb>data table notebook</a>'\n",
              "          + ' to learn more about interactive tables.';\n",
              "        element.innerHTML = '';\n",
              "        dataTable['output_type'] = 'display_data';\n",
              "        await google.colab.output.renderOutput(dataTable, element);\n",
              "        const docLink = document.createElement('div');\n",
              "        docLink.innerHTML = docLinkHtml;\n",
              "        element.appendChild(docLink);\n",
              "      }\n",
              "    </script>\n",
              "  </div>\n",
              "\n",
              "\n",
              "<div id=\"df-8fb5f19d-8016-4799-8982-366ffb9c9103\">\n",
              "  <button class=\"colab-df-quickchart\" onclick=\"quickchart('df-8fb5f19d-8016-4799-8982-366ffb9c9103')\"\n",
              "            title=\"Suggest charts\"\n",
              "            style=\"display:none;\">\n",
              "\n",
              "<svg xmlns=\"http://www.w3.org/2000/svg\" height=\"24px\"viewBox=\"0 0 24 24\"\n",
              "     width=\"24px\">\n",
              "    <g>\n",
              "        <path d=\"M19 3H5c-1.1 0-2 .9-2 2v14c0 1.1.9 2 2 2h14c1.1 0 2-.9 2-2V5c0-1.1-.9-2-2-2zM9 17H7v-7h2v7zm4 0h-2V7h2v10zm4 0h-2v-4h2v4z\"/>\n",
              "    </g>\n",
              "</svg>\n",
              "  </button>\n",
              "\n",
              "<style>\n",
              "  .colab-df-quickchart {\n",
              "      --bg-color: #E8F0FE;\n",
              "      --fill-color: #1967D2;\n",
              "      --hover-bg-color: #E2EBFA;\n",
              "      --hover-fill-color: #174EA6;\n",
              "      --disabled-fill-color: #AAA;\n",
              "      --disabled-bg-color: #DDD;\n",
              "  }\n",
              "\n",
              "  [theme=dark] .colab-df-quickchart {\n",
              "      --bg-color: #3B4455;\n",
              "      --fill-color: #D2E3FC;\n",
              "      --hover-bg-color: #434B5C;\n",
              "      --hover-fill-color: #FFFFFF;\n",
              "      --disabled-bg-color: #3B4455;\n",
              "      --disabled-fill-color: #666;\n",
              "  }\n",
              "\n",
              "  .colab-df-quickchart {\n",
              "    background-color: var(--bg-color);\n",
              "    border: none;\n",
              "    border-radius: 50%;\n",
              "    cursor: pointer;\n",
              "    display: none;\n",
              "    fill: var(--fill-color);\n",
              "    height: 32px;\n",
              "    padding: 0;\n",
              "    width: 32px;\n",
              "  }\n",
              "\n",
              "  .colab-df-quickchart:hover {\n",
              "    background-color: var(--hover-bg-color);\n",
              "    box-shadow: 0 1px 2px rgba(60, 64, 67, 0.3), 0 1px 3px 1px rgba(60, 64, 67, 0.15);\n",
              "    fill: var(--button-hover-fill-color);\n",
              "  }\n",
              "\n",
              "  .colab-df-quickchart-complete:disabled,\n",
              "  .colab-df-quickchart-complete:disabled:hover {\n",
              "    background-color: var(--disabled-bg-color);\n",
              "    fill: var(--disabled-fill-color);\n",
              "    box-shadow: none;\n",
              "  }\n",
              "\n",
              "  .colab-df-spinner {\n",
              "    border: 2px solid var(--fill-color);\n",
              "    border-color: transparent;\n",
              "    border-bottom-color: var(--fill-color);\n",
              "    animation:\n",
              "      spin 1s steps(1) infinite;\n",
              "  }\n",
              "\n",
              "  @keyframes spin {\n",
              "    0% {\n",
              "      border-color: transparent;\n",
              "      border-bottom-color: var(--fill-color);\n",
              "      border-left-color: var(--fill-color);\n",
              "    }\n",
              "    20% {\n",
              "      border-color: transparent;\n",
              "      border-left-color: var(--fill-color);\n",
              "      border-top-color: var(--fill-color);\n",
              "    }\n",
              "    30% {\n",
              "      border-color: transparent;\n",
              "      border-left-color: var(--fill-color);\n",
              "      border-top-color: var(--fill-color);\n",
              "      border-right-color: var(--fill-color);\n",
              "    }\n",
              "    40% {\n",
              "      border-color: transparent;\n",
              "      border-right-color: var(--fill-color);\n",
              "      border-top-color: var(--fill-color);\n",
              "    }\n",
              "    60% {\n",
              "      border-color: transparent;\n",
              "      border-right-color: var(--fill-color);\n",
              "    }\n",
              "    80% {\n",
              "      border-color: transparent;\n",
              "      border-right-color: var(--fill-color);\n",
              "      border-bottom-color: var(--fill-color);\n",
              "    }\n",
              "    90% {\n",
              "      border-color: transparent;\n",
              "      border-bottom-color: var(--fill-color);\n",
              "    }\n",
              "  }\n",
              "</style>\n",
              "\n",
              "  <script>\n",
              "    async function quickchart(key) {\n",
              "      const quickchartButtonEl =\n",
              "        document.querySelector('#' + key + ' button');\n",
              "      quickchartButtonEl.disabled = true;  // To prevent multiple clicks.\n",
              "      quickchartButtonEl.classList.add('colab-df-spinner');\n",
              "      try {\n",
              "        const charts = await google.colab.kernel.invokeFunction(\n",
              "            'suggestCharts', [key], {});\n",
              "      } catch (error) {\n",
              "        console.error('Error during call to suggestCharts:', error);\n",
              "      }\n",
              "      quickchartButtonEl.classList.remove('colab-df-spinner');\n",
              "      quickchartButtonEl.classList.add('colab-df-quickchart-complete');\n",
              "    }\n",
              "    (() => {\n",
              "      let quickchartButtonEl =\n",
              "        document.querySelector('#df-8fb5f19d-8016-4799-8982-366ffb9c9103 button');\n",
              "      quickchartButtonEl.style.display =\n",
              "        google.colab.kernel.accessAllowed ? 'block' : 'none';\n",
              "    })();\n",
              "  </script>\n",
              "</div>\n",
              "    </div>\n",
              "  </div>\n"
            ],
            "application/vnd.google.colaboratory.intrinsic+json": {
              "type": "dataframe",
              "variable_name": "missing_data",
              "summary": "{\n  \"name\": \"missing_data\",\n  \"rows\": 19,\n  \"fields\": [\n    {\n      \"column\": \"NaN_count\",\n      \"properties\": {\n        \"dtype\": \"number\",\n        \"std\": 0,\n        \"min\": 0,\n        \"max\": 1,\n        \"num_unique_values\": 2,\n        \"samples\": [\n          0,\n          1\n        ],\n        \"semantic_type\": \"\",\n        \"description\": \"\"\n      }\n    },\n    {\n      \"column\": \"NaN_percentage\",\n      \"properties\": {\n        \"dtype\": \"number\",\n        \"std\": 9.389096128735559e-06,\n        \"min\": 0.0,\n        \"max\": 2.5062028520588457e-05,\n        \"num_unique_values\": 2,\n        \"samples\": [\n          0.0,\n          2.5062028520588457e-05\n        ],\n        \"semantic_type\": \"\",\n        \"description\": \"\"\n      }\n    }\n  ]\n}"
            }
          },
          "metadata": {},
          "execution_count": 27
        }
      ],
      "source": [
        "# Mendapatkan jumlah missing value tiap kolom dan mengurutkan dari yang terbesar ke terkecil\n",
        "missing = autos.isna().sum().sort_values(ascending = False)\n",
        "# construct a dataframe consists of NaN count and NaN percentage from the dataset\n",
        "missing_data = pd.DataFrame({'NaN_count': missing, 'NaN_percentage': missing / len(autos)}).sort_values(by = 'NaN_percentage', ascending = False)\n",
        "\n",
        "# print the missing value information\n",
        "missing_data"
      ]
    },
    {
      "cell_type": "markdown",
      "metadata": {
        "id": "Sr6QCXSC20UR"
      },
      "source": [
        "## Check Duplicated of Data"
      ]
    },
    {
      "cell_type": "code",
      "execution_count": 28,
      "metadata": {
        "colab": {
          "base_uri": "https://localhost:8080/",
          "height": 73
        },
        "id": "LmuWopV82baL",
        "outputId": "f2624b9e-4de1-4b0e-f06d-a8beaef0fbfc"
      },
      "outputs": [
        {
          "output_type": "execute_result",
          "data": {
            "text/plain": [
              "Empty DataFrame\n",
              "Columns: [date_crawled, name, seller, offer_type, price, abtest, vehicle_type, registration_year, gearbox, power_ps, model, kilometer, registration_month, fuel_type, brand, unrepaired_damage, ad_created, postal_code, last_seen]\n",
              "Index: []"
            ],
            "text/html": [
              "\n",
              "  <div id=\"df-29188aea-31ad-4cb1-b17d-af09b194bbd8\" class=\"colab-df-container\">\n",
              "    <div>\n",
              "<style scoped>\n",
              "    .dataframe tbody tr th:only-of-type {\n",
              "        vertical-align: middle;\n",
              "    }\n",
              "\n",
              "    .dataframe tbody tr th {\n",
              "        vertical-align: top;\n",
              "    }\n",
              "\n",
              "    .dataframe thead th {\n",
              "        text-align: right;\n",
              "    }\n",
              "</style>\n",
              "<table border=\"1\" class=\"dataframe\">\n",
              "  <thead>\n",
              "    <tr style=\"text-align: right;\">\n",
              "      <th></th>\n",
              "      <th>date_crawled</th>\n",
              "      <th>name</th>\n",
              "      <th>seller</th>\n",
              "      <th>offer_type</th>\n",
              "      <th>price</th>\n",
              "      <th>abtest</th>\n",
              "      <th>vehicle_type</th>\n",
              "      <th>registration_year</th>\n",
              "      <th>gearbox</th>\n",
              "      <th>power_ps</th>\n",
              "      <th>model</th>\n",
              "      <th>kilometer</th>\n",
              "      <th>registration_month</th>\n",
              "      <th>fuel_type</th>\n",
              "      <th>brand</th>\n",
              "      <th>unrepaired_damage</th>\n",
              "      <th>ad_created</th>\n",
              "      <th>postal_code</th>\n",
              "      <th>last_seen</th>\n",
              "    </tr>\n",
              "  </thead>\n",
              "  <tbody>\n",
              "  </tbody>\n",
              "</table>\n",
              "</div>\n",
              "    <div class=\"colab-df-buttons\">\n",
              "\n",
              "  <div class=\"colab-df-container\">\n",
              "    <button class=\"colab-df-convert\" onclick=\"convertToInteractive('df-29188aea-31ad-4cb1-b17d-af09b194bbd8')\"\n",
              "            title=\"Convert this dataframe to an interactive table.\"\n",
              "            style=\"display:none;\">\n",
              "\n",
              "  <svg xmlns=\"http://www.w3.org/2000/svg\" height=\"24px\" viewBox=\"0 -960 960 960\">\n",
              "    <path d=\"M120-120v-720h720v720H120Zm60-500h600v-160H180v160Zm220 220h160v-160H400v160Zm0 220h160v-160H400v160ZM180-400h160v-160H180v160Zm440 0h160v-160H620v160ZM180-180h160v-160H180v160Zm440 0h160v-160H620v160Z\"/>\n",
              "  </svg>\n",
              "    </button>\n",
              "\n",
              "  <style>\n",
              "    .colab-df-container {\n",
              "      display:flex;\n",
              "      gap: 12px;\n",
              "    }\n",
              "\n",
              "    .colab-df-convert {\n",
              "      background-color: #E8F0FE;\n",
              "      border: none;\n",
              "      border-radius: 50%;\n",
              "      cursor: pointer;\n",
              "      display: none;\n",
              "      fill: #1967D2;\n",
              "      height: 32px;\n",
              "      padding: 0 0 0 0;\n",
              "      width: 32px;\n",
              "    }\n",
              "\n",
              "    .colab-df-convert:hover {\n",
              "      background-color: #E2EBFA;\n",
              "      box-shadow: 0px 1px 2px rgba(60, 64, 67, 0.3), 0px 1px 3px 1px rgba(60, 64, 67, 0.15);\n",
              "      fill: #174EA6;\n",
              "    }\n",
              "\n",
              "    .colab-df-buttons div {\n",
              "      margin-bottom: 4px;\n",
              "    }\n",
              "\n",
              "    [theme=dark] .colab-df-convert {\n",
              "      background-color: #3B4455;\n",
              "      fill: #D2E3FC;\n",
              "    }\n",
              "\n",
              "    [theme=dark] .colab-df-convert:hover {\n",
              "      background-color: #434B5C;\n",
              "      box-shadow: 0px 1px 3px 1px rgba(0, 0, 0, 0.15);\n",
              "      filter: drop-shadow(0px 1px 2px rgba(0, 0, 0, 0.3));\n",
              "      fill: #FFFFFF;\n",
              "    }\n",
              "  </style>\n",
              "\n",
              "    <script>\n",
              "      const buttonEl =\n",
              "        document.querySelector('#df-29188aea-31ad-4cb1-b17d-af09b194bbd8 button.colab-df-convert');\n",
              "      buttonEl.style.display =\n",
              "        google.colab.kernel.accessAllowed ? 'block' : 'none';\n",
              "\n",
              "      async function convertToInteractive(key) {\n",
              "        const element = document.querySelector('#df-29188aea-31ad-4cb1-b17d-af09b194bbd8');\n",
              "        const dataTable =\n",
              "          await google.colab.kernel.invokeFunction('convertToInteractive',\n",
              "                                                    [key], {});\n",
              "        if (!dataTable) return;\n",
              "\n",
              "        const docLinkHtml = 'Like what you see? Visit the ' +\n",
              "          '<a target=\"_blank\" href=https://colab.research.google.com/notebooks/data_table.ipynb>data table notebook</a>'\n",
              "          + ' to learn more about interactive tables.';\n",
              "        element.innerHTML = '';\n",
              "        dataTable['output_type'] = 'display_data';\n",
              "        await google.colab.output.renderOutput(dataTable, element);\n",
              "        const docLink = document.createElement('div');\n",
              "        docLink.innerHTML = docLinkHtml;\n",
              "        element.appendChild(docLink);\n",
              "      }\n",
              "    </script>\n",
              "  </div>\n",
              "\n",
              "    </div>\n",
              "  </div>\n"
            ],
            "application/vnd.google.colaboratory.intrinsic+json": {
              "type": "dataframe",
              "repr_error": "Out of range float values are not JSON compliant: nan"
            }
          },
          "metadata": {},
          "execution_count": 28
        }
      ],
      "source": [
        "# cek jika terdapat data duplikat\n",
        "autos[autos.duplicated()]"
      ]
    },
    {
      "cell_type": "code",
      "execution_count": 29,
      "metadata": {
        "colab": {
          "base_uri": "https://localhost:8080/"
        },
        "id": "QqtywqRL4mK1",
        "outputId": "f03d0227-7752-4c7c-b9e1-4d4387af7101"
      },
      "outputs": [
        {
          "output_type": "execute_result",
          "data": {
            "text/plain": [
              "0"
            ]
          },
          "metadata": {},
          "execution_count": 29
        }
      ],
      "source": [
        "# menampilkan jumlah data yang duplikat\n",
        "autos.duplicated().sum()"
      ]
    },
    {
      "cell_type": "markdown",
      "source": [
        "terdapat 4 data duplikat\n",
        "\n",
        "## Handle Duplicated of Data"
      ],
      "metadata": {
        "id": "KdocKb-Cuj_U"
      }
    },
    {
      "cell_type": "code",
      "source": [
        "# Menghapus baris duplikat dari DataFrame 'autos' dan mempertahankan baris pertama\n",
        "autos = autos.drop_duplicates(keep='first')"
      ],
      "metadata": {
        "id": "C7-4IIL3uwjH"
      },
      "execution_count": 30,
      "outputs": []
    },
    {
      "cell_type": "code",
      "source": [
        "# cek kembali data\n",
        "autos.duplicated().sum()"
      ],
      "metadata": {
        "colab": {
          "base_uri": "https://localhost:8080/"
        },
        "id": "FtaN97S3x_lI",
        "outputId": "cb721191-0d74-47a2-8a70-c1990171886d"
      },
      "execution_count": 31,
      "outputs": [
        {
          "output_type": "execute_result",
          "data": {
            "text/plain": [
              "0"
            ]
          },
          "metadata": {},
          "execution_count": 31
        }
      ]
    },
    {
      "cell_type": "markdown",
      "metadata": {
        "id": "MSaYPrT98xi-"
      },
      "source": [
        "## Check Inconsistence and Handle it"
      ]
    },
    {
      "cell_type": "code",
      "execution_count": 32,
      "metadata": {
        "colab": {
          "base_uri": "https://localhost:8080/"
        },
        "id": "gMJbEu_OAAG_",
        "outputId": "d05447c2-0360-46a9-b7b3-92cee42ec55a"
      },
      "outputs": [
        {
          "output_type": "execute_result",
          "data": {
            "text/plain": [
              "array(['privat'], dtype=object)"
            ]
          },
          "metadata": {},
          "execution_count": 32
        }
      ],
      "source": [
        "# cek kolom seller\n",
        "autos.seller.unique()"
      ]
    },
    {
      "cell_type": "markdown",
      "metadata": {
        "id": "snwQV4eFArMb"
      },
      "source": [
        "Data kolom seller ditemukan konsisten, namun kita ingin mengubah nama dengan bahasa Jerman dengan nama yang mudah dipahami"
      ]
    },
    {
      "cell_type": "code",
      "execution_count": 33,
      "metadata": {
        "colab": {
          "base_uri": "https://localhost:8080/"
        },
        "id": "pJxnfyKFAe7J",
        "outputId": "9a7c950b-9603-4039-b4ed-08a092317d6c"
      },
      "outputs": [
        {
          "output_type": "execute_result",
          "data": {
            "text/plain": [
              "array(['private'], dtype=object)"
            ]
          },
          "metadata": {},
          "execution_count": 33
        }
      ],
      "source": [
        "# mengganti isi kolom seller menjadi mudah dipahami\n",
        "autos.seller = autos.seller.replace({'privat':'private',\n",
        "                                     'gewerblich':'commercial'})\n",
        "autos.seller.unique()"
      ]
    },
    {
      "cell_type": "code",
      "execution_count": 34,
      "metadata": {
        "colab": {
          "base_uri": "https://localhost:8080/"
        },
        "id": "h0IQWa5SBVYs",
        "outputId": "b37c65ec-a96b-41b5-ce15-222f7924bd76"
      },
      "outputs": [
        {
          "output_type": "execute_result",
          "data": {
            "text/plain": [
              "array(['Angebot', 'Gesuch'], dtype=object)"
            ]
          },
          "metadata": {},
          "execution_count": 34
        }
      ],
      "source": [
        "# cek kolom offer type\n",
        "autos.offer_type.unique()"
      ]
    },
    {
      "cell_type": "markdown",
      "metadata": {
        "id": "99Rg8XElCcuT"
      },
      "source": [
        "Data kolom offer_type ditemukan konsisten, namun kita ingin mengubah nama dengan bahasa Jerman dengan nama yang mudah dipahami"
      ]
    },
    {
      "cell_type": "code",
      "execution_count": 35,
      "metadata": {
        "colab": {
          "base_uri": "https://localhost:8080/"
        },
        "id": "bu6-_-1C-cB3",
        "outputId": "3340be55-354c-4748-d0fc-ca933bc68eb5"
      },
      "outputs": [
        {
          "output_type": "execute_result",
          "data": {
            "text/plain": [
              "array(['Request', 'Offer'], dtype=object)"
            ]
          },
          "metadata": {},
          "execution_count": 35
        }
      ],
      "source": [
        "# mengganti isi kolom offer_type menjadi mudah dipahami\n",
        "autos.offer_type = autos.offer_type.replace({'Angebot':'Request',\n",
        "                                             'Gesuch':'Offer'})\n",
        "autos.offer_type.unique()"
      ]
    },
    {
      "cell_type": "code",
      "execution_count": 36,
      "metadata": {
        "colab": {
          "base_uri": "https://localhost:8080/"
        },
        "id": "1QOe9V3yBKod",
        "outputId": "948c8a2d-f33d-4eff-9f1e-cad7c9d5d7ea"
      },
      "outputs": [
        {
          "output_type": "execute_result",
          "data": {
            "text/plain": [
              "array(['manuell', 'automatik', 'not-exist'], dtype=object)"
            ]
          },
          "metadata": {},
          "execution_count": 36
        }
      ],
      "source": [
        "# cek kolom gearbox\n",
        "autos.gearbox.unique()"
      ]
    },
    {
      "cell_type": "markdown",
      "metadata": {
        "id": "J53QgupGCD4V"
      },
      "source": [
        "Data kolom gearbox ditemukan konsisten, namun kita ingin mengubah nama dengan bahasa Jerman dengan nama yang mudah dipahami"
      ]
    },
    {
      "cell_type": "code",
      "execution_count": 37,
      "metadata": {
        "colab": {
          "base_uri": "https://localhost:8080/"
        },
        "id": "X162ExleCItX",
        "outputId": "3777763c-4d70-4176-89b9-3b835ceedddb"
      },
      "outputs": [
        {
          "output_type": "execute_result",
          "data": {
            "text/plain": [
              "array(['manual', 'automatic', 'not-exist'], dtype=object)"
            ]
          },
          "metadata": {},
          "execution_count": 37
        }
      ],
      "source": [
        "# mengganti isi kolom gearbox menjadi mudah dipahami\n",
        "autos.gearbox = autos.gearbox.replace({'manuell':'manual',\n",
        "                                       'automatik':'automatic',\n",
        "                                       'not-exist':'not-exist'})\n",
        "autos.gearbox.unique()"
      ]
    },
    {
      "cell_type": "code",
      "execution_count": 38,
      "metadata": {
        "colab": {
          "base_uri": "https://localhost:8080/"
        },
        "id": "vq5-DW0yEgr1",
        "outputId": "8b4c2962-3434-4716-d050-45467895fc9b"
      },
      "outputs": [
        {
          "output_type": "execute_result",
          "data": {
            "text/plain": [
              "array(['benzin', 'diesel', 'other', 'lpg', 'andere', 'hybrid', 'cng',\n",
              "       'elektro'], dtype=object)"
            ]
          },
          "metadata": {},
          "execution_count": 38
        }
      ],
      "source": [
        "# cek kolom fuel_type\n",
        "autos.fuel_type.unique()"
      ]
    },
    {
      "cell_type": "markdown",
      "metadata": {
        "id": "Qe3hGhnHE-mo"
      },
      "source": [
        "Data kolom fuel_type ditemukan konsisten, namun kita ingin mengubah nama dengan bahasa Jerman dengan nama yang mudah dipahami"
      ]
    },
    {
      "cell_type": "code",
      "execution_count": 39,
      "metadata": {
        "colab": {
          "base_uri": "https://localhost:8080/"
        },
        "id": "gwUqQOaJFEWl",
        "outputId": "fff0bb41-5f95-40b4-8411-87b48f8fbf6c"
      },
      "outputs": [
        {
          "output_type": "execute_result",
          "data": {
            "text/plain": [
              "array(['gasoline', 'automatic', 'other', 'lpg', 'andere', 'hybrid', 'cng',\n",
              "       'electric'], dtype=object)"
            ]
          },
          "metadata": {},
          "execution_count": 39
        }
      ],
      "source": [
        "# mengganti isi kolom gearbox menjadi mudah dipahami\n",
        "autos.fuel_type = autos.fuel_type.replace({'benzin':'gasoline',\n",
        "                                           'diesel':'automatic',\n",
        "                                           'elektro':'electric'})\n",
        "autos.fuel_type.unique()"
      ]
    },
    {
      "cell_type": "code",
      "execution_count": 40,
      "metadata": {
        "colab": {
          "base_uri": "https://localhost:8080/"
        },
        "id": "NPlNsRHZE-Hq",
        "outputId": "2a4b593f-f9ef-4d19-eb90-cfe98ec37700"
      },
      "outputs": [
        {
          "output_type": "execute_result",
          "data": {
            "text/plain": [
              "array(['other', 'ja', 'nein', 'n'], dtype=object)"
            ]
          },
          "metadata": {},
          "execution_count": 40
        }
      ],
      "source": [
        "# cek kolom unrepaired_damage\n",
        "autos.unrepaired_damage.unique()"
      ]
    },
    {
      "cell_type": "markdown",
      "metadata": {
        "id": "sQ1NGoalHe8m"
      },
      "source": [
        "Data kolom unrepaired_damage ditemukan konsisten, namun kita ingin mengubah nama dengan bahasa Jerman dengan nama yang mudah dipahami"
      ]
    },
    {
      "cell_type": "code",
      "execution_count": 41,
      "metadata": {
        "colab": {
          "base_uri": "https://localhost:8080/"
        },
        "id": "KOYgbqHG-vKz",
        "outputId": "802b9a4f-5301-4e80-d593-287eb849be25"
      },
      "outputs": [
        {
          "output_type": "execute_result",
          "data": {
            "text/plain": [
              "array(['other', 'yes', 'no', 'n'], dtype=object)"
            ]
          },
          "metadata": {},
          "execution_count": 41
        }
      ],
      "source": [
        "# mengganti isi kolom unrepaired_damage menjadi mudah dipahami\n",
        "autos.unrepaired_damage = autos.unrepaired_damage.replace({'ja':'yes',\n",
        "                                                           'nein':'no'})\n",
        "autos.unrepaired_damage.unique()"
      ]
    },
    {
      "cell_type": "markdown",
      "metadata": {
        "id": "gUuCNGNXD55B"
      },
      "source": [
        "ditemukan baris tahun yang tidak sesuai dengan tahun sekarang yaitu 2024 dan juga ditemukan tahun yang kurang dari tahun ditemukan mobil pertama kali yaitu tahun 1878 oleh Karl Benz"
      ]
    },
    {
      "cell_type": "code",
      "execution_count": 42,
      "metadata": {
        "colab": {
          "base_uri": "https://localhost:8080/"
        },
        "id": "3gIgwuCsIHrz",
        "outputId": "96530b9e-f823-44b8-b4e9-ce115018f28c"
      },
      "outputs": [
        {
          "output_type": "execute_result",
          "data": {
            "text/plain": [
              "array([1993, 2011, 2004, 2001, 2008, 1995, 1980, 2014, 1998, 2005, 1910,\n",
              "       2016, 2007, 2009, 2002, 2018, 1997, 1990, 2017, 1981, 2003, 1994,\n",
              "       1991, 1984, 2006, 1999, 2012, 2010, 2000, 1992, 2013, 1996, 1985,\n",
              "       1989, 2015, 1968, 1982, 1976, 1983, 1959, 1973, 1111, 1969, 1971,\n",
              "       1987, 1986, 1988, 1967, 1970, 1965, 1945, 1925, 1974, 1979, 1955,\n",
              "       1978, 1972, 1977, 1961, 1963, 1964, 1960, 1966, 1975, 1937, 1936,\n",
              "       5000, 1954, 1958, 9999, 1956, 3200, 1000, 1933, 1941, 1962, 8888,\n",
              "       1500, 2200, 4100, 1929, 1951, 1957, 1940, 3000, 2066, 1949, 2019,\n",
              "       1800, 1953, 1935])"
            ]
          },
          "metadata": {},
          "execution_count": 42
        }
      ],
      "source": [
        "# cek kolom registration_year\n",
        "autos.registration_year.unique()"
      ]
    },
    {
      "cell_type": "code",
      "execution_count": 43,
      "metadata": {
        "colab": {
          "base_uri": "https://localhost:8080/"
        },
        "id": "gJfIAcQ3KWIg",
        "outputId": "380f6921-1b2c-4cac-e03b-39f1256b2c52"
      },
      "outputs": [
        {
          "output_type": "execute_result",
          "data": {
            "text/plain": [
              "count    39901.000000\n",
              "mean      2004.680985\n",
              "std         98.524132\n",
              "min       1000.000000\n",
              "25%       1999.000000\n",
              "50%       2003.000000\n",
              "75%       2008.000000\n",
              "max       9999.000000\n",
              "Name: registration_year, dtype: float64"
            ]
          },
          "metadata": {},
          "execution_count": 43
        }
      ],
      "source": [
        "# cek deskripsi dari komom registration_year\n",
        "autos.registration_year.describe()"
      ]
    },
    {
      "cell_type": "markdown",
      "metadata": {
        "id": "dbXtmxTFIlWw"
      },
      "source": [
        "ditemukan data kolom tahun registrasi memiliki nilai yang tidak realistis.\n",
        "\n",
        "tidak sesuai dengan tahun terakhir dataset dibuat, yaitu tahun 2016.\n",
        "Dan juga ditemukan tahun yang kurang dari tahun ditemukan mobil pertama kali yaitu tahun 1878 oleh Karl Benz"
      ]
    },
    {
      "cell_type": "code",
      "execution_count": 44,
      "metadata": {
        "colab": {
          "base_uri": "https://localhost:8080/"
        },
        "id": "8ni-MUIZLlNU",
        "outputId": "f4e56e58-017c-42cb-c8dd-b0ce2e7ad6c0"
      },
      "outputs": [
        {
          "output_type": "execute_result",
          "data": {
            "text/plain": [
              "0        1993\n",
              "1        2011\n",
              "2        2004\n",
              "3        2001\n",
              "4        2008\n",
              "         ... \n",
              "39896    2015\n",
              "39897    2003\n",
              "39898    2011\n",
              "39899    2009\n",
              "39900    2002\n",
              "Name: registration_year, Length: 38270, dtype: int64"
            ]
          },
          "metadata": {},
          "execution_count": 44
        }
      ],
      "source": [
        "# drop baris yang memiliki tahun dibawaah 1878 dan tahun diatas 2016\n",
        "autos = autos[(autos.registration_year >= 1878) & (autos.registration_year <= 2016)]\n",
        "\n",
        "autos.registration_year"
      ]
    },
    {
      "cell_type": "code",
      "execution_count": 45,
      "metadata": {
        "colab": {
          "base_uri": "https://localhost:8080/"
        },
        "id": "6Rh8OL64aKOH",
        "outputId": "ae0d8f57-f6b1-44ee-ec47-2c054263cb3b"
      },
      "outputs": [
        {
          "output_type": "execute_result",
          "data": {
            "text/plain": [
              "array([ 0,  5,  8,  6,  7, 10, 12, 11,  2,  3,  1,  4,  9])"
            ]
          },
          "metadata": {},
          "execution_count": 45
        }
      ],
      "source": [
        "# cek kolom registration_month\n",
        "autos.registration_month.unique()"
      ]
    },
    {
      "cell_type": "markdown",
      "metadata": {
        "id": "zpHxJMx_aJbe"
      },
      "source": [
        "kita akan mengubah data bulan menjadi 1 - 12, lalu ubah menjadi Jan-Dec"
      ]
    },
    {
      "cell_type": "code",
      "execution_count": 46,
      "metadata": {
        "colab": {
          "base_uri": "https://localhost:8080/"
        },
        "id": "wFR0NT-havJ0",
        "outputId": "15b55066-3cc8-4d6c-b406-fae52ec85019"
      },
      "outputs": [
        {
          "output_type": "stream",
          "name": "stderr",
          "text": [
            "<ipython-input-46-01cf69f6d844>:2: SettingWithCopyWarning: \n",
            "A value is trying to be set on a copy of a slice from a DataFrame\n",
            "\n",
            "See the caveats in the documentation: https://pandas.pydata.org/pandas-docs/stable/user_guide/indexing.html#returning-a-view-versus-a-copy\n",
            "  autos.registration_month.replace([0,12],[1,12],inplace=True)\n",
            "<ipython-input-46-01cf69f6d844>:8: SettingWithCopyWarning: \n",
            "A value is trying to be set on a copy of a slice from a DataFrame\n",
            "\n",
            "See the caveats in the documentation: https://pandas.pydata.org/pandas-docs/stable/user_guide/indexing.html#returning-a-view-versus-a-copy\n",
            "  autos.registration_month.replace([1,2,3,4,5,6,7,8,9,10,11, 12],months,inplace=True)\n"
          ]
        },
        {
          "output_type": "execute_result",
          "data": {
            "text/plain": [
              "array(['Jan', 'May', 'Aug', 'Jun', 'Jul', 'Oct', 'Dec', 'Nov', 'Feb',\n",
              "       'Mar', 'Apr', 'Sep'], dtype=object)"
            ]
          },
          "metadata": {},
          "execution_count": 46
        }
      ],
      "source": [
        "#mengubah nilai bulan\n",
        "autos.registration_month.replace([0,12],[1,12],inplace=True)\n",
        "\n",
        "#mengubah nilai bulan dari 1-12 menjadi Jan - Des\n",
        "months = [\"Jan\", \"Feb\", \"Mar\" ,\"Apr\", \"May\", \"Jun\", \"Jul\", \"Aug\", \"Sep\", \"Oct\", \"Nov\", \"Dec\"]\n",
        "\n",
        "#mengubah nilai bulan dari 1-12 menjadi Jan - Des\n",
        "autos.registration_month.replace([1,2,3,4,5,6,7,8,9,10,11, 12],months,inplace=True)\n",
        "\n",
        "# cek kolom registration_month kembali\n",
        "autos.registration_month.unique()"
      ]
    },
    {
      "cell_type": "markdown",
      "metadata": {
        "id": "ouT7QU8vygyv"
      },
      "source": [
        "## Check Outlier\n",
        "\n",
        "- Outlier biasanya terdapat pada kolom bertipe numeric.\n",
        "- Pada kasus kali ini, kita akan mengidentifikasi outlier pada kolom price.\n",
        "- Kita dapat menampilkan sebaran data price menggunakan boxplot"
      ]
    },
    {
      "cell_type": "code",
      "execution_count": 47,
      "metadata": {
        "colab": {
          "base_uri": "https://localhost:8080/",
          "height": 542
        },
        "id": "oEMmMMQOI_ZA",
        "outputId": "8a80f16b-fb7a-4930-f962-3ea39ecebd58"
      },
      "outputs": [
        {
          "output_type": "display_data",
          "data": {
            "text/plain": [
              "<Figure size 1000x600 with 1 Axes>"
            ],
            "image/png": "[encoded data removed]"
          },
          "metadata": {}
        }
      ],
      "source": [
        "# Buat figure & axes\n",
        "fig, ax = plt.subplots(figsize=(10, 6))\n",
        "\n",
        "# Buat boxplot untuk kolom \"price\"\n",
        "sns.boxplot(data=autos,\n",
        "            x=\"price\",\n",
        "            ax=ax)\n",
        "\n",
        "# Tampilkan plot\n",
        "plt.show()"
      ]
    },
    {
      "cell_type": "markdown",
      "metadata": {
        "id": "bnLf_dsTKHDG"
      },
      "source": [
        "kita cek dulu statistik deskripsinya"
      ]
    },
    {
      "cell_type": "code",
      "execution_count": 48,
      "metadata": {
        "colab": {
          "base_uri": "https://localhost:8080/"
        },
        "id": "zFngnuetJyev",
        "outputId": "60083b7a-928e-4264-db49-5b90c0d2dfbc"
      },
      "outputs": [
        {
          "output_type": "execute_result",
          "data": {
            "text/plain": [
              "count    3.827000e+04\n",
              "mean     6.791164e+03\n",
              "std      9.999025e+04\n",
              "min      0.000000e+00\n",
              "25%      1.150000e+03\n",
              "50%      2.999000e+03\n",
              "75%      7.300000e+03\n",
              "max      1.234568e+07\n",
              "Name: price, dtype: float64"
            ]
          },
          "metadata": {},
          "execution_count": 48
        }
      ],
      "source": [
        "# cek statistik deskriptif\n",
        "autos.price.describe()"
      ]
    },
    {
      "cell_type": "markdown",
      "metadata": {
        "id": "sRlFkkXWLZvs"
      },
      "source": [
        " cek kemunculan harga paling tinggi pada kolom price"
      ]
    },
    {
      "cell_type": "code",
      "execution_count": 49,
      "metadata": {
        "colab": {
          "base_uri": "https://localhost:8080/"
        },
        "id": "_o5Xlx2R4oXY",
        "outputId": "5eb49696-8ca3-478f-86d6-b974233fbb53"
      },
      "outputs": [
        {
          "output_type": "execute_result",
          "data": {
            "text/plain": [
              "12345678    1\n",
              "11111111    1\n",
              "9999999     1\n",
              "1250000     1\n",
              "1000000     1\n",
              "Name: price, dtype: int64"
            ]
          },
          "metadata": {},
          "execution_count": 49
        }
      ],
      "source": [
        "# cek harga paling tinggi\n",
        "autos.price.value_counts().sort_index(ascending=False).head()"
      ]
    },
    {
      "cell_type": "markdown",
      "metadata": {
        "id": "GjkrpALNQdbb"
      },
      "source": [
        "hapus outlier harga yang memiliki nilai > 9999999 karena harga tersebut tidak menjadikan harga serius yang ditawarkan"
      ]
    },
    {
      "cell_type": "code",
      "execution_count": 50,
      "metadata": {
        "colab": {
          "base_uri": "https://localhost:8080/"
        },
        "id": "_JJdeL3FPm4X",
        "outputId": "68448c98-26b9-44c4-fbf3-6539588ca2b8"
      },
      "outputs": [
        {
          "output_type": "execute_result",
          "data": {
            "text/plain": [
              "1250000    1\n",
              "1000000    1\n",
              "Name: price, dtype: int64"
            ]
          },
          "metadata": {},
          "execution_count": 50
        }
      ],
      "source": [
        "# Menghapus baris yang memiliki nilai lebih dari 9999999 di kolom 'price'\n",
        "autos = autos.loc[autos.price < 9999999]\n",
        "# cek harga kembali\n",
        "autos.price.value_counts().sort_index(ascending=False).head(2)"
      ]
    },
    {
      "cell_type": "code",
      "execution_count": 51,
      "metadata": {
        "colab": {
          "base_uri": "https://localhost:8080/"
        },
        "id": "tMmCWECLUtuQ",
        "outputId": "475367c9-37bf-4fb7-8013-960e0fba420a"
      },
      "outputs": [
        {
          "output_type": "execute_result",
          "data": {
            "text/plain": [
              "5       4\n",
              "3       1\n",
              "2       3\n",
              "1     119\n",
              "0    1121\n",
              "Name: price, dtype: int64"
            ]
          },
          "metadata": {},
          "execution_count": 51
        }
      ],
      "source": [
        "#cek harga yang memiliki nilai 0\n",
        "autos.price.value_counts().sort_index(ascending=False).tail()"
      ]
    },
    {
      "cell_type": "markdown",
      "metadata": {
        "id": "4RT2GFsEYiMW"
      },
      "source": [
        "ternyata terdapat kemunculan harga 0 sebanyak 10014. kita cek dulu berapa presentasenya"
      ]
    },
    {
      "cell_type": "code",
      "execution_count": 52,
      "metadata": {
        "colab": {
          "base_uri": "https://localhost:8080/"
        },
        "id": "seamSsMcYVCa",
        "outputId": "8999336f-b43d-4a08-b492-fd9859aa1493"
      },
      "outputs": [
        {
          "output_type": "stream",
          "name": "stdout",
          "text": [
            "Persentase nilai 0 dalam kolom 'price': 2.93%\n"
          ]
        }
      ],
      "source": [
        "# Hitung jumlah nilai 0 dalam kolom tertentu\n",
        "jumlah_nilai_0 = (autos.price.values == 0).sum()\n",
        "\n",
        "# Hitung jumlah total baris\n",
        "jumlah_total_baris = autos.shape[0]\n",
        "\n",
        "# Hitung persentase nilai 0\n",
        "persentase_nilai_0 = (jumlah_nilai_0 / jumlah_total_baris) * 100\n",
        "\n",
        "print(f\"Persentase nilai 0 dalam kolom 'price': {persentase_nilai_0:.2f}%\")"
      ]
    },
    {
      "cell_type": "markdown",
      "metadata": {
        "id": "-lLO3HZ5Y_Q7"
      },
      "source": [
        "Ternyata nilai harga pada kolom price yang bernilai 0.0 berjumlah\n",
        "2.81% dari total seluruh data. maka solusinya adalah dengan\n",
        "menghapus semua data yang bernilai 0\n",
        "\n"
      ]
    },
    {
      "cell_type": "code",
      "execution_count": 53,
      "metadata": {
        "colab": {
          "base_uri": "https://localhost:8080/"
        },
        "id": "HxVFpRuzZDPu",
        "outputId": "4ec94c61-2adf-4f9c-a1c7-d8c8b462a3b7"
      },
      "outputs": [
        {
          "output_type": "execute_result",
          "data": {
            "text/plain": [
              "8      2\n",
              "5      4\n",
              "3      1\n",
              "2      3\n",
              "1    119\n",
              "Name: price, dtype: int64"
            ]
          },
          "metadata": {},
          "execution_count": 53
        }
      ],
      "source": [
        "# Menghapus baris yang memiliki nilai 0.0 di kolom 'price'\n",
        "autos = autos[autos.price != 0.0]\n",
        "\n",
        "#cek kembali data kolom price\n",
        "autos.price.value_counts().sort_index(ascending=False).tail()"
      ]
    },
    {
      "cell_type": "code",
      "execution_count": 54,
      "metadata": {
        "colab": {
          "base_uri": "https://localhost:8080/",
          "height": 542
        },
        "id": "eLCVj5k2TEqC",
        "outputId": "ac74d8a2-57de-4bb3-8585-f93bc0f8c83b"
      },
      "outputs": [
        {
          "output_type": "display_data",
          "data": {
            "text/plain": [
              "<Figure size 1000x600 with 1 Axes>"
            ],
            "image/png": "[encoded data removed]"
          },
          "metadata": {}
        }
      ],
      "source": [
        "# Buat figure & axes\n",
        "fig, ax = plt.subplots(figsize=(10, 6))\n",
        "\n",
        "# Buat boxplot untuk kolom \"price\"\n",
        "sns.boxplot(data=autos,\n",
        "            x=\"price\",\n",
        "            ax=ax)\n",
        "\n",
        "# Tampilkan plot\n",
        "plt.show()"
      ]
    },
    {
      "cell_type": "markdown",
      "source": [
        "outlier setidaknya berkurang, namun kita harus menyelidiki lebih lanjut untuk menangani outlier"
      ],
      "metadata": {
        "id": "jQ6WdDI3-Ik4"
      }
    },
    {
      "cell_type": "code",
      "source": [
        "# cek statistik deskriptif kembali\n",
        "autos.price.describe()"
      ],
      "metadata": {
        "colab": {
          "base_uri": "https://localhost:8080/"
        },
        "id": "qx0LxMtU0mF6",
        "outputId": "9ebf186f-2d63-4885-e26f-00c5665fa71f"
      },
      "execution_count": 55,
      "outputs": [
        {
          "output_type": "execute_result",
          "data": {
            "text/plain": [
              "count    3.714600e+04\n",
              "mean     6.095974e+03\n",
              "std      1.385220e+04\n",
              "min      1.000000e+00\n",
              "25%      1.250000e+03\n",
              "50%      3.150000e+03\n",
              "75%      7.500000e+03\n",
              "max      1.250000e+06\n",
              "Name: price, dtype: float64"
            ]
          },
          "metadata": {},
          "execution_count": 55
        }
      ]
    },
    {
      "cell_type": "code",
      "source": [
        "# Cari Q1 & Q3\n",
        "Q1 = autos.price.quantile(0.25)\n",
        "Q3 = autos.price.quantile(0.75)\n",
        "\n",
        "print(f\"Q1 : {Q1:.2f}\")\n",
        "print(f\"Q3 : {Q3:.2f}\")"
      ],
      "metadata": {
        "colab": {
          "base_uri": "https://localhost:8080/"
        },
        "id": "XVK5fNgN9PqK",
        "outputId": "55d2bfb9-c5de-44e4-bcd7-f149dc96e356"
      },
      "execution_count": 56,
      "outputs": [
        {
          "output_type": "stream",
          "name": "stdout",
          "text": [
            "Q1 : 1250.00\n",
            "Q3 : 7500.00\n"
          ]
        }
      ]
    },
    {
      "cell_type": "code",
      "source": [
        "# Cari IQR & BATAS MAXIMUM\n",
        "IQR = Q3 - Q1\n",
        "max_bound = Q3 + 1.5*IQR\n",
        "\n",
        "print(f\"IQR : {IQR:.2f}\")\n",
        "print(f\"Maximum Boundary : {max_bound:.2f}\")"
      ],
      "metadata": {
        "colab": {
          "base_uri": "https://localhost:8080/"
        },
        "id": "LaDG0Ams9TXA",
        "outputId": "d53e2c33-2218-4500-c73b-e22fa94c704d"
      },
      "execution_count": 57,
      "outputs": [
        {
          "output_type": "stream",
          "name": "stdout",
          "text": [
            "IQR : 6250.00\n",
            "Maximum Boundary : 16875.00\n"
          ]
        }
      ]
    },
    {
      "cell_type": "code",
      "source": [
        "# Filter data tanpa outlier\n",
        "autos = autos[autos[\"price\"] < max_bound]"
      ],
      "metadata": {
        "id": "afXXKmf39XPm"
      },
      "execution_count": 58,
      "outputs": []
    },
    {
      "cell_type": "code",
      "source": [
        "# Buat figure & axes\n",
        "fig, ax = plt.subplots(figsize = (10, 6))\n",
        "\n",
        "# Buat histogram plot price\n",
        "sns.histplot(data = autos,\n",
        "             x = \"price\",\n",
        "             bins = 100,\n",
        "             ax = ax)\n",
        "\n",
        "plt.show()"
      ],
      "metadata": {
        "colab": {
          "base_uri": "https://localhost:8080/",
          "height": 542
        },
        "id": "yzPHjmM39g8T",
        "outputId": "abe2ef57-c5ec-4b75-a773-8fe627920e59"
      },
      "execution_count": 59,
      "outputs": [
        {
          "output_type": "display_data",
          "data": {
            "text/plain": [
              "<Figure size 1000x600 with 1 Axes>"
            ],
            "image/png": "[encoded data removed]"
          },
          "metadata": {}
        }
      ]
    },
    {
      "cell_type": "code",
      "source": [
        "# Validasi hasil filter\n",
        "autos[\"price\"].describe()"
      ],
      "metadata": {
        "colab": {
          "base_uri": "https://localhost:8080/"
        },
        "id": "Sgu55eUn-ABV",
        "outputId": "81b53f2e-4946-4ea4-ab47-824a732e2759"
      },
      "execution_count": 60,
      "outputs": [
        {
          "output_type": "execute_result",
          "data": {
            "text/plain": [
              "count    34338.000000\n",
              "mean      4208.017823\n",
              "std       3959.020736\n",
              "min          1.000000\n",
              "25%       1199.000000\n",
              "50%       2800.000000\n",
              "75%       6050.000000\n",
              "max      16850.000000\n",
              "Name: price, dtype: float64"
            ]
          },
          "metadata": {},
          "execution_count": 60
        }
      ]
    },
    {
      "cell_type": "markdown",
      "source": [
        "Terlihat Q3 dan nilai maximum masih berbeda jauh\n",
        "Outlier telah belum sepenuhnya dihilangkan.\n",
        "kita coba sekali lagi"
      ],
      "metadata": {
        "id": "c14iTgdN-vxb"
      }
    },
    {
      "cell_type": "code",
      "source": [
        "# Cari Q1 & Q3\n",
        "Q1 = autos.price.quantile(0.25)\n",
        "Q3 = autos.price.quantile(0.75)\n",
        "\n",
        "print(f\"Q1 : {Q1:.2f}\")\n",
        "print(f\"Q3 : {Q3:.2f}\")"
      ],
      "metadata": {
        "colab": {
          "base_uri": "https://localhost:8080/"
        },
        "id": "hI6hxr94-7k-",
        "outputId": "261cf3e5-5613-4725-bca4-80eaaaeb73aa"
      },
      "execution_count": 61,
      "outputs": [
        {
          "output_type": "stream",
          "name": "stdout",
          "text": [
            "Q1 : 1199.00\n",
            "Q3 : 6050.00\n"
          ]
        }
      ]
    },
    {
      "cell_type": "code",
      "source": [
        "# Cari IQR & BATAS MAXIMUM\n",
        "IQR = Q3 - Q1\n",
        "max_bound = Q3 + 1.5*IQR\n",
        "\n",
        "print(f\"IQR : {IQR:.2f}\")\n",
        "print(f\"Maximum Boundary : {max_bound:.2f}\")"
      ],
      "metadata": {
        "colab": {
          "base_uri": "https://localhost:8080/"
        },
        "id": "pxBFk5lm_F3b",
        "outputId": "8c3f6b9d-37cb-4bad-efd4-8a52271e335d"
      },
      "execution_count": 62,
      "outputs": [
        {
          "output_type": "stream",
          "name": "stdout",
          "text": [
            "IQR : 4851.00\n",
            "Maximum Boundary : 13326.50\n"
          ]
        }
      ]
    },
    {
      "cell_type": "code",
      "source": [
        "# Filter data tanpa outlier\n",
        "autos = autos[autos[\"price\"] < max_bound]"
      ],
      "metadata": {
        "id": "Mb3dboCn_LIG"
      },
      "execution_count": 63,
      "outputs": []
    },
    {
      "cell_type": "code",
      "source": [
        "# Validasi hasil filter\n",
        "autos[\"price\"].describe()"
      ],
      "metadata": {
        "colab": {
          "base_uri": "https://localhost:8080/"
        },
        "id": "PCL1ZRnQ_Mlg",
        "outputId": "8bbaa755-d259-43bf-c61e-add60020ea78"
      },
      "execution_count": 64,
      "outputs": [
        {
          "output_type": "execute_result",
          "data": {
            "text/plain": [
              "count    32776.000000\n",
              "mean      3698.543446\n",
              "std       3266.575767\n",
              "min          1.000000\n",
              "25%       1100.000000\n",
              "50%       2550.000000\n",
              "75%       5500.000000\n",
              "max      13300.000000\n",
              "Name: price, dtype: float64"
            ]
          },
          "metadata": {},
          "execution_count": 64
        }
      ]
    },
    {
      "cell_type": "code",
      "source": [
        "# Buat figure & axes\n",
        "fig, ax = plt.subplots(figsize = (10, 6))\n",
        "\n",
        "# Buat histogram plot price\n",
        "sns.histplot(data = autos,\n",
        "             x = \"price\",\n",
        "             bins = 100,\n",
        "             ax = ax)\n",
        "\n",
        "plt.show()"
      ],
      "metadata": {
        "colab": {
          "base_uri": "https://localhost:8080/",
          "height": 546
        },
        "id": "pdXzjcQA_YTy",
        "outputId": "8feff47e-b1f6-4df6-b5aa-d599bfd394a8"
      },
      "execution_count": 65,
      "outputs": [
        {
          "output_type": "display_data",
          "data": {
            "text/plain": [
              "<Figure size 1000x600 with 1 Axes>"
            ],
            "image/png": "[encoded data removed]"
          },
          "metadata": {}
        }
      ]
    },
    {
      "cell_type": "markdown",
      "source": [
        "ternyata distribusinya masih miring ke kanan kita coba melihat sebaran outlier dari 'price' berdasarkan 'vehicle_type'"
      ],
      "metadata": {
        "id": "sZNkNujoTTwB"
      }
    },
    {
      "cell_type": "code",
      "source": [
        "# Membuat boxplot\n",
        "plt.figure(figsize=(10, 6))  # Ukuran plot\n",
        "sns.boxplot(x='vehicle_type', y='price', data=autos)\n",
        "plt.title('Rentang Price base of Vehicle Type')\n",
        "plt.xlabel('Vehicle Type')\n",
        "plt.ylabel('Price')\n",
        "plt.xticks(rotation=45)  # Memutar label sumbu x agar mudah dibaca\n",
        "plt.grid(True)\n",
        "plt.show()"
      ],
      "metadata": {
        "colab": {
          "base_uri": "https://localhost:8080/",
          "height": 616
        },
        "id": "BYWUVlBsYk1U",
        "outputId": "513d0aa7-b9d6-4e40-cfb9-461b810a2cff"
      },
      "execution_count": 66,
      "outputs": [
        {
          "output_type": "display_data",
          "data": {
            "text/plain": [
              "<Figure size 1000x600 with 1 Axes>"
            ],
            "image/png": "[encoded data removed]"
          },
          "metadata": {}
        }
      ]
    },
    {
      "cell_type": "markdown",
      "source": [
        "ternyata terdapat outlier dari beberapa tipe mesin.\n",
        "kita akan mengubah harga berdasarkan IQR, kita cari tahu dulu IQR dari masing-masing tipe"
      ],
      "metadata": {
        "id": "C4WretUTjUzw"
      }
    },
    {
      "cell_type": "code",
      "source": [
        "# Menghitung IQR, Q1, dan Q3 dari price digroup berdasarkan vehicle_type\n",
        "result = autos.groupby('vehicle_type')['price'].describe(percentiles=[.25, .75])\n",
        "\n",
        "# Menghitung IQR\n",
        "result['IQR'] = result['75%'] - result['25%']\n",
        "\n",
        "# Menampilkan hasil\n",
        "result['IQR']"
      ],
      "metadata": {
        "colab": {
          "base_uri": "https://localhost:8080/"
        },
        "id": "e400IPLsj0mR",
        "outputId": "cad3062a-204d-4627-ff0e-1649f49db79d"
      },
      "execution_count": 67,
      "outputs": [
        {
          "output_type": "execute_result",
          "data": {
            "text/plain": [
              "vehicle_type\n",
              "andere        3580.00\n",
              "bus           4500.00\n",
              "cabrio        4986.75\n",
              "coupe         4700.00\n",
              "kleinwagen    2740.00\n",
              "kombi         4850.00\n",
              "limousine     4650.00\n",
              "other         2100.00\n",
              "suv           6000.00\n",
              "Name: IQR, dtype: float64"
            ]
          },
          "metadata": {},
          "execution_count": 67
        }
      ]
    },
    {
      "cell_type": "code",
      "source": [
        "# Menghapus outlier sesuai dengan data IQR\n",
        "autos = autos[(autos.vehicle_type == 'andere') & (autos.price <= 3500) |\n",
        "              (autos.vehicle_type == 'bus') & (autos.price <= 4790) |\n",
        "              (autos.vehicle_type == 'cabrio') & (autos.price <= 5300) |\n",
        "              (autos.vehicle_type == 'coupe') & (autos.price <= 5001) |\n",
        "              (autos.vehicle_type == 'kleinwagen') & (autos.price <= 2710) |\n",
        "              (autos.vehicle_type == 'kombi') & (autos.price <= 4920) |\n",
        "              (autos.vehicle_type == 'limousine') & (autos.price <= 4699) |\n",
        "              (autos.vehicle_type == 'other') & (autos.price <= 2099) |\n",
        "              (autos.vehicle_type == 'suv') & (autos.price <= 6250)]"
      ],
      "metadata": {
        "id": "BRu8A_pqj7q8"
      },
      "execution_count": 68,
      "outputs": []
    },
    {
      "cell_type": "code",
      "source": [
        "# Membuat boxplot\n",
        "plt.figure(figsize=(10, 6))  # Ukuran plot\n",
        "sns.boxplot(x='vehicle_type', y='price', data=autos)\n",
        "plt.title('Rentang Price base of Vehicle Type')\n",
        "plt.xlabel('Vehicle Type')\n",
        "plt.ylabel('Price')\n",
        "plt.xticks(rotation=45)  # Memutar label sumbu x agar mudah dibaca\n",
        "plt.grid(True)\n",
        "plt.show()"
      ],
      "metadata": {
        "colab": {
          "base_uri": "https://localhost:8080/",
          "height": 616
        },
        "id": "DUjB49CikCCz",
        "outputId": "29c87a62-3758-420b-9bbd-11039eedb143"
      },
      "execution_count": 69,
      "outputs": [
        {
          "output_type": "display_data",
          "data": {
            "text/plain": [
              "<Figure size 1000x600 with 1 Axes>"
            ],
            "image/png": "[encoded data removed]"
          },
          "metadata": {}
        }
      ]
    },
    {
      "cell_type": "markdown",
      "source": [
        "kita cek kembali data price"
      ],
      "metadata": {
        "id": "0grvxPl6kgtc"
      }
    },
    {
      "cell_type": "code",
      "source": [
        "# Buat figure & axes\n",
        "fig, ax = plt.subplots(figsize = (10, 6))\n",
        "\n",
        "# Buat histogram plot price\n",
        "sns.histplot(data = autos,\n",
        "             x = \"price\",\n",
        "             bins = 100,\n",
        "             ax = ax)\n",
        "\n",
        "plt.show()"
      ],
      "metadata": {
        "colab": {
          "base_uri": "https://localhost:8080/",
          "height": 542
        },
        "id": "2tHhISyXkeTK",
        "outputId": "5a617427-c2f0-4bce-fd78-a3aafad216f0"
      },
      "execution_count": 70,
      "outputs": [
        {
          "output_type": "display_data",
          "data": {
            "text/plain": [
              "<Figure size 1000x600 with 1 Axes>"
            ],
            "image/png": "[encoded data removed]"
          },
          "metadata": {}
        }
      ]
    },
    {
      "cell_type": "code",
      "source": [
        "autos.price.describe()"
      ],
      "metadata": {
        "colab": {
          "base_uri": "https://localhost:8080/"
        },
        "id": "4t8nElhelmbr",
        "outputId": "04c6ec08-eeb0-4fc1-a2db-c6972c8c88ca"
      },
      "execution_count": 71,
      "outputs": [
        {
          "output_type": "execute_result",
          "data": {
            "text/plain": [
              "count    21655.000000\n",
              "mean      1789.244516\n",
              "std       1255.454752\n",
              "min          1.000000\n",
              "25%        799.000000\n",
              "50%       1500.000000\n",
              "75%       2500.000000\n",
              "max       6250.000000\n",
              "Name: price, dtype: float64"
            ]
          },
          "metadata": {},
          "execution_count": 71
        }
      ]
    },
    {
      "cell_type": "markdown",
      "source": [
        "- Terlihat Q3 dan nilai maximum sudah tidak berbeda jauh\n",
        "- Outlier telah dihilangkan"
      ],
      "metadata": {
        "id": "y93BsvdomB6e"
      }
    },
    {
      "cell_type": "markdown",
      "metadata": {
        "id": "uj0ScFJQxYQ9"
      },
      "source": [
        "## Eksport Dataset"
      ]
    },
    {
      "cell_type": "code",
      "execution_count": 72,
      "metadata": {
        "id": "qBUoXJ_6xTj7"
      },
      "outputs": [],
      "source": [
        "#eksport dataset yang telah dicleaning\n",
        "autos.to_csv('autos_cleaned.csv', index=False)"
      ]
    }
  ],
  "metadata": {
    "colab": {
      "provenance": []
    },
    "kernelspec": {
      "display_name": "Python 3",
      "name": "python3"
    },
    "language_info": {
      "name": "python"
    }
  },
  "nbformat": 4,
  "nbformat_minor": 0
}